{
 "cells": [
  {
   "cell_type": "markdown",
   "metadata": {},
   "source": [
    "# FIT5202 Assignment 2"
   ]
  },
  {
   "cell_type": "markdown",
   "metadata": {},
   "source": [
    "## A. Creating Spark Session and Loading the Data"
   ]
  },
  {
   "cell_type": "markdown",
   "metadata": {},
   "source": [
    "### Step 01: Import Spark Session and initialize Spark"
   ]
  },
  {
   "cell_type": "code",
   "execution_count": 2,
   "metadata": {},
   "outputs": [],
   "source": [
    "from pyspark import SparkConf, SparkContext\n",
    "from pyspark.sql import SparkSession\n",
    "from pyspark.sql.functions import *\n",
    "from pyspark.ml.feature import StringIndexer, VectorAssembler, MinMaxScaler\n",
    "from pyspark.ml.classification import DecisionTreeClassifier, RandomForestClassifier, LogisticRegression, GBTClassifier\n",
    "from pyspark.ml.evaluation import MulticlassClassificationEvaluator, BinaryClassificationEvaluator\n",
    "from pyspark.ml.tuning import ParamGridBuilder, CrossValidator\n",
    "from pyspark.sql.types import *\n",
    "import numpy as np\n",
    "import matplotlib.pyplot as plt\n",
    "\n",
    "conf = SparkConf().setMaster(\"local[4]\")\\\n",
    "                  .setAppName(\"FIT5202 Assignment 2\")\n",
    "\n",
    "sc = SparkContext.getOrCreate(conf=conf)\n",
    "\n",
    "if sc == None:\n",
    "    print('Hello')\n",
    "    sc = SparkContext(conf=conf)\n",
    "\n",
    "spark = SparkSession(sparkContext=sc)"
   ]
  },
  {
   "cell_type": "markdown",
   "metadata": {},
   "source": [
    "### Step 02: Load the dataset and print the schema and total number of entries"
   ]
  },
  {
   "cell_type": "code",
   "execution_count": 3,
   "metadata": {},
   "outputs": [
    {
     "name": "stdout",
     "output_type": "stream",
     "text": [
      "The total number of entries of the dataset is 142193.\n"
     ]
    }
   ],
   "source": [
    "df = spark.read.csv(\"weatherAUS.csv\",\n",
    "                    header=True,\n",
    "                    nullValue=\"NA\")\n",
    "print(\"The total number of entries of the dataset is {0}.\".format(df.count()))"
   ]
  },
  {
   "cell_type": "code",
   "execution_count": 4,
   "metadata": {},
   "outputs": [
    {
     "name": "stdout",
     "output_type": "stream",
     "text": [
      "root\n",
      " |-- Date: string (nullable = true)\n",
      " |-- Location: string (nullable = true)\n",
      " |-- MinTemp: string (nullable = true)\n",
      " |-- MaxTemp: string (nullable = true)\n",
      " |-- Rainfall: string (nullable = true)\n",
      " |-- Evaporation: string (nullable = true)\n",
      " |-- Sunshine: string (nullable = true)\n",
      " |-- WindGustDir: string (nullable = true)\n",
      " |-- WindGustSpeed: string (nullable = true)\n",
      " |-- WindDir9am: string (nullable = true)\n",
      " |-- WindDir3pm: string (nullable = true)\n",
      " |-- WindSpeed9am: string (nullable = true)\n",
      " |-- WindSpeed3pm: string (nullable = true)\n",
      " |-- Humidity9am: string (nullable = true)\n",
      " |-- Humidity3pm: string (nullable = true)\n",
      " |-- Pressure9am: string (nullable = true)\n",
      " |-- Pressure3pm: string (nullable = true)\n",
      " |-- Cloud9am: string (nullable = true)\n",
      " |-- Cloud3pm: string (nullable = true)\n",
      " |-- Temp9am: string (nullable = true)\n",
      " |-- Temp3pm: string (nullable = true)\n",
      " |-- RainToday: string (nullable = true)\n",
      " |-- RainTomorrow: string (nullable = true)\n",
      "\n"
     ]
    }
   ],
   "source": [
    "df.printSchema()"
   ]
  },
  {
   "cell_type": "code",
   "execution_count": 5,
   "metadata": {},
   "outputs": [
    {
     "name": "stdout",
     "output_type": "stream",
     "text": [
      "-RECORD 0-------------------\n",
      " Date          | 2008-12-01 \n",
      " Location      | Albury     \n",
      " MinTemp       | 13.4       \n",
      " MaxTemp       | 22.9       \n",
      " Rainfall      | 0.6        \n",
      " Evaporation   | null       \n",
      " Sunshine      | null       \n",
      " WindGustDir   | W          \n",
      " WindGustSpeed | 44         \n",
      " WindDir9am    | W          \n",
      " WindDir3pm    | WNW        \n",
      " WindSpeed9am  | 20         \n",
      " WindSpeed3pm  | 24         \n",
      " Humidity9am   | 71         \n",
      " Humidity3pm   | 22         \n",
      " Pressure9am   | 1007.7     \n",
      " Pressure3pm   | 1007.1     \n",
      " Cloud9am      | 8          \n",
      " Cloud3pm      | null       \n",
      " Temp9am       | 16.9       \n",
      " Temp3pm       | 21.8       \n",
      " RainToday     | No         \n",
      " RainTomorrow  | No         \n",
      "-RECORD 1-------------------\n",
      " Date          | 2008-12-02 \n",
      " Location      | Albury     \n",
      " MinTemp       | 7.4        \n",
      " MaxTemp       | 25.1       \n",
      " Rainfall      | 0          \n",
      " Evaporation   | null       \n",
      " Sunshine      | null       \n",
      " WindGustDir   | WNW        \n",
      " WindGustSpeed | 44         \n",
      " WindDir9am    | NNW        \n",
      " WindDir3pm    | WSW        \n",
      " WindSpeed9am  | 4          \n",
      " WindSpeed3pm  | 22         \n",
      " Humidity9am   | 44         \n",
      " Humidity3pm   | 25         \n",
      " Pressure9am   | 1010.6     \n",
      " Pressure3pm   | 1007.8     \n",
      " Cloud9am      | null       \n",
      " Cloud3pm      | null       \n",
      " Temp9am       | 17.2       \n",
      " Temp3pm       | 24.3       \n",
      " RainToday     | No         \n",
      " RainTomorrow  | No         \n",
      "-RECORD 2-------------------\n",
      " Date          | 2008-12-03 \n",
      " Location      | Albury     \n",
      " MinTemp       | 12.9       \n",
      " MaxTemp       | 25.7       \n",
      " Rainfall      | 0          \n",
      " Evaporation   | null       \n",
      " Sunshine      | null       \n",
      " WindGustDir   | WSW        \n",
      " WindGustSpeed | 46         \n",
      " WindDir9am    | W          \n",
      " WindDir3pm    | WSW        \n",
      " WindSpeed9am  | 19         \n",
      " WindSpeed3pm  | 26         \n",
      " Humidity9am   | 38         \n",
      " Humidity3pm   | 30         \n",
      " Pressure9am   | 1007.6     \n",
      " Pressure3pm   | 1008.7     \n",
      " Cloud9am      | null       \n",
      " Cloud3pm      | 2          \n",
      " Temp9am       | 21         \n",
      " Temp3pm       | 23.2       \n",
      " RainToday     | No         \n",
      " RainTomorrow  | No         \n",
      "-RECORD 3-------------------\n",
      " Date          | 2008-12-04 \n",
      " Location      | Albury     \n",
      " MinTemp       | 9.2        \n",
      " MaxTemp       | 28         \n",
      " Rainfall      | 0          \n",
      " Evaporation   | null       \n",
      " Sunshine      | null       \n",
      " WindGustDir   | NE         \n",
      " WindGustSpeed | 24         \n",
      " WindDir9am    | SE         \n",
      " WindDir3pm    | E          \n",
      " WindSpeed9am  | 11         \n",
      " WindSpeed3pm  | 9          \n",
      " Humidity9am   | 45         \n",
      " Humidity3pm   | 16         \n",
      " Pressure9am   | 1017.6     \n",
      " Pressure3pm   | 1012.8     \n",
      " Cloud9am      | null       \n",
      " Cloud3pm      | null       \n",
      " Temp9am       | 18.1       \n",
      " Temp3pm       | 26.5       \n",
      " RainToday     | No         \n",
      " RainTomorrow  | No         \n",
      "-RECORD 4-------------------\n",
      " Date          | 2008-12-05 \n",
      " Location      | Albury     \n",
      " MinTemp       | 17.5       \n",
      " MaxTemp       | 32.3       \n",
      " Rainfall      | 1          \n",
      " Evaporation   | null       \n",
      " Sunshine      | null       \n",
      " WindGustDir   | W          \n",
      " WindGustSpeed | 41         \n",
      " WindDir9am    | ENE        \n",
      " WindDir3pm    | NW         \n",
      " WindSpeed9am  | 7          \n",
      " WindSpeed3pm  | 20         \n",
      " Humidity9am   | 82         \n",
      " Humidity3pm   | 33         \n",
      " Pressure9am   | 1010.8     \n",
      " Pressure3pm   | 1006       \n",
      " Cloud9am      | 7          \n",
      " Cloud3pm      | 8          \n",
      " Temp9am       | 17.8       \n",
      " Temp3pm       | 29.7       \n",
      " RainToday     | No         \n",
      " RainTomorrow  | No         \n",
      "only showing top 5 rows\n",
      "\n"
     ]
    }
   ],
   "source": [
    "df.show(5, vertical=True)"
   ]
  },
  {
   "cell_type": "markdown",
   "metadata": {},
   "source": [
    "## B. Data Cleaning and Processing"
   ]
  },
  {
   "cell_type": "markdown",
   "metadata": {},
   "source": [
    "### Step 03: Delete columns from the dataset"
   ]
  },
  {
   "cell_type": "code",
   "execution_count": 6,
   "metadata": {},
   "outputs": [
    {
     "name": "stdout",
     "output_type": "stream",
     "text": [
      "root\n",
      " |-- MinTemp: string (nullable = true)\n",
      " |-- MaxTemp: string (nullable = true)\n",
      " |-- Rainfall: string (nullable = true)\n",
      " |-- WindGustDir: string (nullable = true)\n",
      " |-- WindGustSpeed: string (nullable = true)\n",
      " |-- WindDir9am: string (nullable = true)\n",
      " |-- WindDir3pm: string (nullable = true)\n",
      " |-- WindSpeed9am: string (nullable = true)\n",
      " |-- WindSpeed3pm: string (nullable = true)\n",
      " |-- Humidity9am: string (nullable = true)\n",
      " |-- Humidity3pm: string (nullable = true)\n",
      " |-- Pressure9am: string (nullable = true)\n",
      " |-- Pressure3pm: string (nullable = true)\n",
      " |-- RainToday: string (nullable = true)\n",
      " |-- RainTomorrow: string (nullable = true)\n",
      "\n"
     ]
    }
   ],
   "source": [
    "df_dropped = df.drop(\"Date\",\n",
    "             \"Location\",\n",
    "             \"Evaporation\",\n",
    "             \"Sunshine\",\n",
    "             \"Cloud9am\",\n",
    "             \"Cloud3pm\",\n",
    "             \"Temp9am\",\n",
    "             \"Temp3pm\")\n",
    "df_dropped.printSchema()"
   ]
  },
  {
   "cell_type": "markdown",
   "metadata": {},
   "source": [
    "### Step 04: Print the number of missing data in each column"
   ]
  },
  {
   "cell_type": "code",
   "execution_count": 7,
   "metadata": {
    "scrolled": true
   },
   "outputs": [
    {
     "name": "stdout",
     "output_type": "stream",
     "text": [
      "-RECORD 0--------------\n",
      " MinTemp       | 637   \n",
      " MaxTemp       | 322   \n",
      " Rainfall      | 1406  \n",
      " WindGustDir   | 9330  \n",
      " WindGustSpeed | 9270  \n",
      " WindDir9am    | 10013 \n",
      " WindDir3pm    | 3778  \n",
      " WindSpeed9am  | 1348  \n",
      " WindSpeed3pm  | 2630  \n",
      " Humidity9am   | 1774  \n",
      " Humidity3pm   | 3610  \n",
      " Pressure9am   | 14014 \n",
      " Pressure3pm   | 13981 \n",
      " RainToday     | 1406  \n",
      " RainTomorrow  | 0     \n",
      "\n"
     ]
    }
   ],
   "source": [
    "df_dropped.select([count(when(col(c).isNull(), c)).alias(c) for c in df_dropped.columns]).show(vertical=True)"
   ]
  },
  {
   "cell_type": "code",
   "execution_count": 26,
   "metadata": {},
   "outputs": [
    {
     "data": {
      "text/plain": [
       "{'MinTemp': [Row(count=637)],\n",
       " 'MaxTemp': [Row(count=322)],\n",
       " 'Rainfall': [Row(count=1406)],\n",
       " 'WindGustDir': [Row(count=9330)],\n",
       " 'WindGustSpeed': [Row(count=9270)],\n",
       " 'WindDir9am': [Row(count=10013)],\n",
       " 'WindDir3pm': [Row(count=3778)],\n",
       " 'WindSpeed9am': [Row(count=1348)],\n",
       " 'WindSpeed3pm': [Row(count=2630)],\n",
       " 'Humidity9am': [Row(count=1774)],\n",
       " 'Humidity3pm': [Row(count=3610)],\n",
       " 'Pressure9am': [Row(count=14014)],\n",
       " 'Pressure3pm': [Row(count=13981)],\n",
       " 'RainToday': [Row(count=1406)],\n",
       " 'RainTomorrow': []}"
      ]
     },
     "execution_count": 26,
     "metadata": {},
     "output_type": "execute_result"
    }
   ],
   "source": [
    "null_count = {c: df_dropped.where(df_dropped[c].isNull()).groupBy(c).count().select(\"count\").collect() for c in df_dropped.columns}\n",
    "null_count"
   ]
  },
  {
   "cell_type": "markdown",
   "metadata": {},
   "source": [
    "### Step 05: Fill the missing data with average value and maximum occurrence value"
   ]
  },
  {
   "cell_type": "code",
   "execution_count": 37,
   "metadata": {},
   "outputs": [],
   "source": [
    "# The names of numeric columns\n",
    "numeric_cols = [\"MinTemp\", \"MaxTemp\", \"Rainfall\", \"WindGustSpeed\", \"WindSpeed9am\", \"WindSpeed3pm\", \"Humidity9am\", \"Humidity3pm\", \"Pressure9am\", \"Pressure3pm\"]\n",
    "\n",
    "# The names of string columns\n",
    "string_cols  = [\"WindGustDir\", \"WindDir9am\", \"WindDir3pm\", \"RainToday\"]"
   ]
  },
  {
   "cell_type": "code",
   "execution_count": 8,
   "metadata": {},
   "outputs": [],
   "source": [
    "# Calculate the mean of numeric colums\n",
    "means = df_dropped.select([mean(col(c)).alias(c) for c in numeric_cols]).collect()[0]\n",
    "\n",
    "# Form a dictionary where keys are names of columns and values are the means.\n",
    "ready_to_fill_n = {numeric_cols[i]: means[i] for i in range(len(numeric_cols))}\n",
    "\n",
    "# Fill the na values for numeric columns.\n",
    "df_filled_n = df_dropped.na.fill(ready_to_fill_n)"
   ]
  },
  {
   "cell_type": "code",
   "execution_count": 9,
   "metadata": {},
   "outputs": [],
   "source": [
    "# Define a function to find the mode of string columns\n",
    "def find_mode(col_name):\n",
    "    # Find the maximum occurrence of non-null values.\n",
    "    max = df_dropped.where(df[col_name] != \"null\")\\\n",
    "                    .groupBy(col_name)\\\n",
    "                    .count()\\\n",
    "                    .groupBy().max(\"Count\").collect()[0][0]\n",
    "    \n",
    "    # Group the data again\n",
    "    grouped = df_dropped.where(df_dropped[col_name] != \"null\").groupBy(col_name).count()\n",
    "    \n",
    "    # Find the value with maximum occurrence.\n",
    "    mode = grouped.where(grouped[\"count\"] == max).select(col_name).collect()[0][0]\n",
    "    return mode\n",
    "\n",
    "# Form a dictionary where keys are names of columns and values are the modes.\n",
    "ready_to_fill_s = {string_cols[i]: find_mode(string_cols[i]) for i in range(len(string_cols))}\n",
    "\n",
    "# Fill the na values for string columns.\n",
    "df_nonull = df_filled_n.na.fill(ready_to_fill_s)"
   ]
  },
  {
   "cell_type": "markdown",
   "metadata": {},
   "source": [
    "We count the nulls in each column again to see if the transformation really worked."
   ]
  },
  {
   "cell_type": "code",
   "execution_count": 10,
   "metadata": {},
   "outputs": [
    {
     "name": "stdout",
     "output_type": "stream",
     "text": [
      "-RECORD 0------------\n",
      " MinTemp       | 0   \n",
      " MaxTemp       | 0   \n",
      " Rainfall      | 0   \n",
      " WindGustDir   | 0   \n",
      " WindGustSpeed | 0   \n",
      " WindDir9am    | 0   \n",
      " WindDir3pm    | 0   \n",
      " WindSpeed9am  | 0   \n",
      " WindSpeed3pm  | 0   \n",
      " Humidity9am   | 0   \n",
      " Humidity3pm   | 0   \n",
      " Pressure9am   | 0   \n",
      " Pressure3pm   | 0   \n",
      " RainToday     | 0   \n",
      " RainTomorrow  | 0   \n",
      "\n"
     ]
    }
   ],
   "source": [
    "df_nonull.select([count(when(col(c).isNull(), c)).alias(c) for c in df_nonull.columns]).show(vertical=True)"
   ]
  },
  {
   "cell_type": "markdown",
   "metadata": {},
   "source": [
    "### Step 06: Data transformation"
   ]
  },
  {
   "cell_type": "code",
   "execution_count": 11,
   "metadata": {},
   "outputs": [
    {
     "name": "stdout",
     "output_type": "stream",
     "text": [
      "-RECORD 0---------------\n",
      " MinTemp       | 13.4   \n",
      " MaxTemp       | 22.9   \n",
      " Rainfall      | 0.6    \n",
      " WindGustDir   | W      \n",
      " WindGustSpeed | 44.0   \n",
      " WindDir9am    | W      \n",
      " WindDir3pm    | WNW    \n",
      " WindSpeed9am  | 20.0   \n",
      " WindSpeed3pm  | 24.0   \n",
      " Humidity9am   | 71.0   \n",
      " Humidity3pm   | 22.0   \n",
      " Pressure9am   | 1007.7 \n",
      " Pressure3pm   | 1007.1 \n",
      " RainToday     | No     \n",
      " RainTomorrow  | No     \n",
      "-RECORD 1---------------\n",
      " MinTemp       | 7.4    \n",
      " MaxTemp       | 25.1   \n",
      " Rainfall      | 0.0    \n",
      " WindGustDir   | WNW    \n",
      " WindGustSpeed | 44.0   \n",
      " WindDir9am    | NNW    \n",
      " WindDir3pm    | WSW    \n",
      " WindSpeed9am  | 4.0    \n",
      " WindSpeed3pm  | 22.0   \n",
      " Humidity9am   | 44.0   \n",
      " Humidity3pm   | 25.0   \n",
      " Pressure9am   | 1010.6 \n",
      " Pressure3pm   | 1007.8 \n",
      " RainToday     | No     \n",
      " RainTomorrow  | No     \n",
      "-RECORD 2---------------\n",
      " MinTemp       | 12.9   \n",
      " MaxTemp       | 25.7   \n",
      " Rainfall      | 0.0    \n",
      " WindGustDir   | WSW    \n",
      " WindGustSpeed | 46.0   \n",
      " WindDir9am    | W      \n",
      " WindDir3pm    | WSW    \n",
      " WindSpeed9am  | 19.0   \n",
      " WindSpeed3pm  | 26.0   \n",
      " Humidity9am   | 38.0   \n",
      " Humidity3pm   | 30.0   \n",
      " Pressure9am   | 1007.6 \n",
      " Pressure3pm   | 1008.7 \n",
      " RainToday     | No     \n",
      " RainTomorrow  | No     \n",
      "-RECORD 3---------------\n",
      " MinTemp       | 9.2    \n",
      " MaxTemp       | 28.0   \n",
      " Rainfall      | 0.0    \n",
      " WindGustDir   | NE     \n",
      " WindGustSpeed | 24.0   \n",
      " WindDir9am    | SE     \n",
      " WindDir3pm    | E      \n",
      " WindSpeed9am  | 11.0   \n",
      " WindSpeed3pm  | 9.0    \n",
      " Humidity9am   | 45.0   \n",
      " Humidity3pm   | 16.0   \n",
      " Pressure9am   | 1017.6 \n",
      " Pressure3pm   | 1012.8 \n",
      " RainToday     | No     \n",
      " RainTomorrow  | No     \n",
      "-RECORD 4---------------\n",
      " MinTemp       | 17.5   \n",
      " MaxTemp       | 32.3   \n",
      " Rainfall      | 1.0    \n",
      " WindGustDir   | W      \n",
      " WindGustSpeed | 41.0   \n",
      " WindDir9am    | ENE    \n",
      " WindDir3pm    | NW     \n",
      " WindSpeed9am  | 7.0    \n",
      " WindSpeed3pm  | 20.0   \n",
      " Humidity9am   | 82.0   \n",
      " Humidity3pm   | 33.0   \n",
      " Pressure9am   | 1010.8 \n",
      " Pressure3pm   | 1006.0 \n",
      " RainToday     | No     \n",
      " RainTomorrow  | No     \n",
      "only showing top 5 rows\n",
      "\n"
     ]
    }
   ],
   "source": [
    "# Create the udf for conversion.\n",
    "converter = udf(lambda x: float(x), DoubleType())\n",
    "\n",
    "for i in numeric_cols:\n",
    "    df_nonull = df_nonull.withColumn(i, converter(col(i)))\n",
    "\n",
    "df_nonull.show(5, truncate=False, vertical=True)"
   ]
  },
  {
   "cell_type": "code",
   "execution_count": 12,
   "metadata": {},
   "outputs": [
    {
     "name": "stdout",
     "output_type": "stream",
     "text": [
      "root\n",
      " |-- MinTemp: double (nullable = true)\n",
      " |-- MaxTemp: double (nullable = true)\n",
      " |-- Rainfall: double (nullable = true)\n",
      " |-- WindGustDir: string (nullable = false)\n",
      " |-- WindGustSpeed: double (nullable = true)\n",
      " |-- WindDir9am: string (nullable = false)\n",
      " |-- WindDir3pm: string (nullable = false)\n",
      " |-- WindSpeed9am: double (nullable = true)\n",
      " |-- WindSpeed3pm: double (nullable = true)\n",
      " |-- Humidity9am: double (nullable = true)\n",
      " |-- Humidity3pm: double (nullable = true)\n",
      " |-- Pressure9am: double (nullable = true)\n",
      " |-- Pressure3pm: double (nullable = true)\n",
      " |-- RainToday: string (nullable = false)\n",
      " |-- RainTomorrow: string (nullable = true)\n",
      "\n"
     ]
    }
   ],
   "source": [
    "df_nonull.printSchema()"
   ]
  },
  {
   "cell_type": "code",
   "execution_count": 13,
   "metadata": {},
   "outputs": [
    {
     "name": "stdout",
     "output_type": "stream",
     "text": [
      "-RECORD 0---------------------\n",
      " MinTemp             | 13.4   \n",
      " MaxTemp             | 22.9   \n",
      " Rainfall            | 0.6    \n",
      " WindGustDir         | W      \n",
      " WindGustSpeed       | 44.0   \n",
      " WindDir9am          | W      \n",
      " WindDir3pm          | WNW    \n",
      " WindSpeed9am        | 20.0   \n",
      " WindSpeed3pm        | 24.0   \n",
      " Humidity9am         | 71.0   \n",
      " Humidity3pm         | 22.0   \n",
      " Pressure9am         | 1007.7 \n",
      " Pressure3pm         | 1007.1 \n",
      " RainToday           | No     \n",
      " RainTomorrow        | No     \n",
      " WindGustDirindexed  | 0.0    \n",
      " WindDir9amindexed   | 6.0    \n",
      " WindDir3pmindexed   | 7.0    \n",
      " RainTodayindexed    | 0.0    \n",
      " RainTomorrowindexed | 0.0    \n",
      "-RECORD 1---------------------\n",
      " MinTemp             | 7.4    \n",
      " MaxTemp             | 25.1   \n",
      " Rainfall            | 0.0    \n",
      " WindGustDir         | WNW    \n",
      " WindGustSpeed       | 44.0   \n",
      " WindDir9am          | NNW    \n",
      " WindDir3pm          | WSW    \n",
      " WindSpeed9am        | 4.0    \n",
      " WindSpeed3pm        | 22.0   \n",
      " Humidity9am         | 44.0   \n",
      " Humidity3pm         | 25.0   \n",
      " Pressure9am         | 1010.6 \n",
      " Pressure3pm         | 1007.8 \n",
      " RainToday           | No     \n",
      " RainTomorrow        | No     \n",
      " WindGustDirindexed  | 9.0    \n",
      " WindDir9amindexed   | 9.0    \n",
      " WindDir3pmindexed   | 3.0    \n",
      " RainTodayindexed    | 0.0    \n",
      " RainTomorrowindexed | 0.0    \n",
      "-RECORD 2---------------------\n",
      " MinTemp             | 12.9   \n",
      " MaxTemp             | 25.7   \n",
      " Rainfall            | 0.0    \n",
      " WindGustDir         | WSW    \n",
      " WindGustSpeed       | 46.0   \n",
      " WindDir9am          | W      \n",
      " WindDir3pm          | WSW    \n",
      " WindSpeed9am        | 19.0   \n",
      " WindSpeed3pm        | 26.0   \n",
      " Humidity9am         | 38.0   \n",
      " Humidity3pm         | 30.0   \n",
      " Pressure9am         | 1007.6 \n",
      " Pressure3pm         | 1008.7 \n",
      " RainToday           | No     \n",
      " RainTomorrow        | No     \n",
      " WindGustDirindexed  | 6.0    \n",
      " WindDir9amindexed   | 6.0    \n",
      " WindDir3pmindexed   | 3.0    \n",
      " RainTodayindexed    | 0.0    \n",
      " RainTomorrowindexed | 0.0    \n",
      "-RECORD 3---------------------\n",
      " MinTemp             | 9.2    \n",
      " MaxTemp             | 28.0   \n",
      " Rainfall            | 0.0    \n",
      " WindGustDir         | NE     \n",
      " WindGustSpeed       | 24.0   \n",
      " WindDir9am          | SE     \n",
      " WindDir3pm          | E      \n",
      " WindSpeed9am        | 11.0   \n",
      " WindSpeed3pm        | 9.0    \n",
      " Humidity9am         | 45.0   \n",
      " Humidity3pm         | 16.0   \n",
      " Pressure9am         | 1017.6 \n",
      " Pressure3pm         | 1012.8 \n",
      " RainToday           | No     \n",
      " RainTomorrow        | No     \n",
      " WindGustDirindexed  | 13.0   \n",
      " WindDir9amindexed   | 1.0    \n",
      " WindDir3pmindexed   | 10.0   \n",
      " RainTodayindexed    | 0.0    \n",
      " RainTomorrowindexed | 0.0    \n",
      "-RECORD 4---------------------\n",
      " MinTemp             | 17.5   \n",
      " MaxTemp             | 32.3   \n",
      " Rainfall            | 1.0    \n",
      " WindGustDir         | W      \n",
      " WindGustSpeed       | 41.0   \n",
      " WindDir9am          | ENE    \n",
      " WindDir3pm          | NW     \n",
      " WindSpeed9am        | 7.0    \n",
      " WindSpeed3pm        | 20.0   \n",
      " Humidity9am         | 82.0   \n",
      " Humidity3pm         | 33.0   \n",
      " Pressure9am         | 1010.8 \n",
      " Pressure3pm         | 1006.0 \n",
      " RainToday           | No     \n",
      " RainTomorrow        | No     \n",
      " WindGustDirindexed  | 0.0    \n",
      " WindDir9amindexed   | 10.0   \n",
      " WindDir3pmindexed   | 8.0    \n",
      " RainTodayindexed    | 0.0    \n",
      " RainTomorrowindexed | 0.0    \n",
      "-RECORD 5---------------------\n",
      " MinTemp             | 14.6   \n",
      " MaxTemp             | 29.7   \n",
      " Rainfall            | 0.2    \n",
      " WindGustDir         | WNW    \n",
      " WindGustSpeed       | 56.0   \n",
      " WindDir9am          | W      \n",
      " WindDir3pm          | W      \n",
      " WindSpeed9am        | 19.0   \n",
      " WindSpeed3pm        | 24.0   \n",
      " Humidity9am         | 55.0   \n",
      " Humidity3pm         | 23.0   \n",
      " Pressure9am         | 1009.2 \n",
      " Pressure3pm         | 1005.4 \n",
      " RainToday           | No     \n",
      " RainTomorrow        | No     \n",
      " WindGustDirindexed  | 9.0    \n",
      " WindDir9amindexed   | 6.0    \n",
      " WindDir3pmindexed   | 1.0    \n",
      " RainTodayindexed    | 0.0    \n",
      " RainTomorrowindexed | 0.0    \n",
      "-RECORD 6---------------------\n",
      " MinTemp             | 14.3   \n",
      " MaxTemp             | 25.0   \n",
      " Rainfall            | 0.0    \n",
      " WindGustDir         | W      \n",
      " WindGustSpeed       | 50.0   \n",
      " WindDir9am          | SW     \n",
      " WindDir3pm          | W      \n",
      " WindSpeed9am        | 20.0   \n",
      " WindSpeed3pm        | 24.0   \n",
      " Humidity9am         | 49.0   \n",
      " Humidity3pm         | 19.0   \n",
      " Pressure9am         | 1009.6 \n",
      " Pressure3pm         | 1008.2 \n",
      " RainToday           | No     \n",
      " RainTomorrow        | No     \n",
      " WindGustDirindexed  | 0.0    \n",
      " WindDir9amindexed   | 7.0    \n",
      " WindDir3pmindexed   | 1.0    \n",
      " RainTodayindexed    | 0.0    \n",
      " RainTomorrowindexed | 0.0    \n",
      "-RECORD 7---------------------\n",
      " MinTemp             | 7.7    \n",
      " MaxTemp             | 26.7   \n",
      " Rainfall            | 0.0    \n",
      " WindGustDir         | W      \n",
      " WindGustSpeed       | 35.0   \n",
      " WindDir9am          | SSE    \n",
      " WindDir3pm          | W      \n",
      " WindSpeed9am        | 6.0    \n",
      " WindSpeed3pm        | 17.0   \n",
      " Humidity9am         | 48.0   \n",
      " Humidity3pm         | 19.0   \n",
      " Pressure9am         | 1013.4 \n",
      " Pressure3pm         | 1010.1 \n",
      " RainToday           | No     \n",
      " RainTomorrow        | No     \n",
      " WindGustDirindexed  | 0.0    \n",
      " WindDir9amindexed   | 3.0    \n",
      " WindDir3pmindexed   | 1.0    \n",
      " RainTodayindexed    | 0.0    \n",
      " RainTomorrowindexed | 0.0    \n",
      "-RECORD 8---------------------\n",
      " MinTemp             | 9.7    \n",
      " MaxTemp             | 31.9   \n",
      " Rainfall            | 0.0    \n",
      " WindGustDir         | NNW    \n",
      " WindGustSpeed       | 80.0   \n",
      " WindDir9am          | SE     \n",
      " WindDir3pm          | NW     \n",
      " WindSpeed9am        | 7.0    \n",
      " WindSpeed3pm        | 28.0   \n",
      " Humidity9am         | 42.0   \n",
      " Humidity3pm         | 9.0    \n",
      " Pressure9am         | 1008.9 \n",
      " Pressure3pm         | 1003.6 \n",
      " RainToday           | No     \n",
      " RainTomorrow        | Yes    \n",
      " WindGustDirindexed  | 14.0   \n",
      " WindDir9amindexed   | 1.0    \n",
      " WindDir3pmindexed   | 8.0    \n",
      " RainTodayindexed    | 0.0    \n",
      " RainTomorrowindexed | 1.0    \n",
      "-RECORD 9---------------------\n",
      " MinTemp             | 13.1   \n",
      " MaxTemp             | 30.1   \n",
      " Rainfall            | 1.4    \n",
      " WindGustDir         | W      \n",
      " WindGustSpeed       | 28.0   \n",
      " WindDir9am          | S      \n",
      " WindDir3pm          | SSE    \n",
      " WindSpeed9am        | 15.0   \n",
      " WindSpeed3pm        | 11.0   \n",
      " Humidity9am         | 58.0   \n",
      " Humidity3pm         | 27.0   \n",
      " Pressure9am         | 1007.0 \n",
      " Pressure3pm         | 1005.7 \n",
      " RainToday           | Yes    \n",
      " RainTomorrow        | No     \n",
      " WindGustDirindexed  | 0.0    \n",
      " WindDir9amindexed   | 5.0    \n",
      " WindDir3pmindexed   | 5.0    \n",
      " RainTodayindexed    | 1.0    \n",
      " RainTomorrowindexed | 0.0    \n",
      "only showing top 10 rows\n",
      "\n"
     ]
    }
   ],
   "source": [
    "# We also should convert the RainTomorrow to index.\n",
    "string_cols.append(\"RainTomorrow\")\n",
    "\n",
    "# Chunk the indexers into a list, put the indexed value in to a column\n",
    "indexers = [StringIndexer(inputCol=i, outputCol=str(i+\"indexed\")) for i in string_cols]\n",
    "\n",
    "# Loop through the list to transform the dataframe.\n",
    "for i in range(len(indexers)):\n",
    "    df_nonull = indexers[i].fit(df_nonull).transform(df_nonull)\n",
    "\n",
    "df_nonull.show(10, truncate=False, vertical=True)"
   ]
  },
  {
   "cell_type": "code",
   "execution_count": 14,
   "metadata": {},
   "outputs": [],
   "source": [
    "# Only the first 3 string columns are features\n",
    "features = numeric_cols + list(map(lambda x: x+\"indexed\", string_cols[0:3]))\n",
    "\n",
    "vector_assembler = VectorAssembler(inputCols=features,\n",
    "                                   outputCol=\"features\")\n",
    "\n",
    "df_vectorised = vector_assembler.transform(df_nonull)\\\n",
    "                                .withColumnRenamed(\"RainTomorrowindexed\", \"label\")\\\n",
    "                                .select(\"RainTomorrow\",\"features\", \"label\")"
   ]
  },
  {
   "cell_type": "code",
   "execution_count": 15,
   "metadata": {},
   "outputs": [
    {
     "name": "stdout",
     "output_type": "stream",
     "text": [
      "+------------+--------------------+-----+\n",
      "|RainTomorrow|            features|label|\n",
      "+------------+--------------------+-----+\n",
      "|          No|[13.4,22.9,0.6,44...|  0.0|\n",
      "|          No|[7.4,25.1,0.0,44....|  0.0|\n",
      "|          No|[12.9,25.7,0.0,46...|  0.0|\n",
      "|          No|[9.2,28.0,0.0,24....|  0.0|\n",
      "|          No|[17.5,32.3,1.0,41...|  0.0|\n",
      "|          No|[14.6,29.7,0.2,56...|  0.0|\n",
      "|          No|[14.3,25.0,0.0,50...|  0.0|\n",
      "|          No|[7.7,26.7,0.0,35....|  0.0|\n",
      "|         Yes|[9.7,31.9,0.0,80....|  1.0|\n",
      "|          No|[13.1,30.1,1.4,28...|  0.0|\n",
      "|         Yes|[13.4,30.4,0.0,30...|  1.0|\n",
      "|         Yes|[15.9,21.7,2.2,31...|  1.0|\n",
      "|         Yes|[15.9,18.6,15.6,6...|  1.0|\n",
      "|          No|[12.6,21.0,3.6,44...|  0.0|\n",
      "|          No|[9.8,27.7,2.34997...|  0.0|\n",
      "|         Yes|[14.1,20.9,0.0,22...|  1.0|\n",
      "|         Yes|[13.5,22.9,16.8,6...|  1.0|\n",
      "|          No|[11.2,22.5,10.6,4...|  0.0|\n",
      "|          No|[9.8,25.6,0.0,26....|  0.0|\n",
      "|          No|[11.5,29.3,0.0,24...|  0.0|\n",
      "+------------+--------------------+-----+\n",
      "only showing top 20 rows\n",
      "\n"
     ]
    }
   ],
   "source": [
    "df_vectorised.show()"
   ]
  },
  {
   "cell_type": "markdown",
   "metadata": {},
   "source": [
    "Now we know that \"No\" was indexed as 0 and \"Yes\" was indexed as 1. Hence, we can drop this column now."
   ]
  },
  {
   "cell_type": "code",
   "execution_count": 16,
   "metadata": {},
   "outputs": [],
   "source": [
    "df_vectorised = df_vectorised.drop(\"RainTomorrow\")"
   ]
  },
  {
   "cell_type": "markdown",
   "metadata": {},
   "source": [
    "### Step 07: Create the feature vector and divide the dataset\n"
   ]
  },
  {
   "cell_type": "code",
   "execution_count": 17,
   "metadata": {},
   "outputs": [],
   "source": [
    "(trainingData, testData) = df_vectorised.randomSplit([0.7, 0.3], seed = 100)"
   ]
  },
  {
   "cell_type": "markdown",
   "metadata": {},
   "source": [
    "## C. Apply Machine Learning Algorithms"
   ]
  },
  {
   "cell_type": "markdown",
   "metadata": {},
   "source": [
    "### Step 08: Apply machine learning classification algorithms on the dataset and compare their accuracy. Plot the accuracy as bar graph"
   ]
  },
  {
   "cell_type": "code",
   "execution_count": 18,
   "metadata": {},
   "outputs": [
    {
     "name": "stdout",
     "output_type": "stream",
     "text": [
      "Decision Tree\n",
      "+-----+----------+\n",
      "|label|prediction|\n",
      "+-----+----------+\n",
      "|1.0  |0.0       |\n",
      "|0.0  |0.0       |\n",
      "|0.0  |0.0       |\n",
      "|0.0  |0.0       |\n",
      "|0.0  |0.0       |\n",
      "+-----+----------+\n",
      "only showing top 5 rows\n",
      "\n",
      "Random Forest\n",
      "+-----+----------+\n",
      "|label|prediction|\n",
      "+-----+----------+\n",
      "|1.0  |0.0       |\n",
      "|0.0  |0.0       |\n",
      "|0.0  |0.0       |\n",
      "|0.0  |0.0       |\n",
      "|0.0  |0.0       |\n",
      "+-----+----------+\n",
      "only showing top 5 rows\n",
      "\n",
      "Logistic Regression\n",
      "+-----+----------+\n",
      "|label|prediction|\n",
      "+-----+----------+\n",
      "|1.0  |0.0       |\n",
      "|0.0  |0.0       |\n",
      "|0.0  |0.0       |\n",
      "|0.0  |0.0       |\n",
      "|0.0  |0.0       |\n",
      "+-----+----------+\n",
      "only showing top 5 rows\n",
      "\n",
      "Gradient Boosted Tree\n",
      "+-----+----------+\n",
      "|label|prediction|\n",
      "+-----+----------+\n",
      "|1.0  |0.0       |\n",
      "|0.0  |0.0       |\n",
      "|0.0  |0.0       |\n",
      "|0.0  |0.0       |\n",
      "|0.0  |0.0       |\n",
      "+-----+----------+\n",
      "only showing top 5 rows\n",
      "\n"
     ]
    }
   ],
   "source": [
    "# Chunk the classifiers into a dictionary to automate the process\n",
    "classifiers = {\"Decision Tree\": DecisionTreeClassifier(labelCol=\"label\", featuresCol=\"features\"),\n",
    "              \"Random Forest\": RandomForestClassifier(labelCol=\"label\", featuresCol=\"features\"),\n",
    "              \"Logistic Regression\": LogisticRegression(labelCol=\"label\", featuresCol=\"features\"),\n",
    "              \"Gradient Boosted Tree\": GBTClassifier(labelCol=\"label\", featuresCol=\"features\")}\n",
    "\n",
    "# Build models on the classifiers, chunked them into a dictionary\n",
    "models = {i: classifiers[i].fit(trainingData) for i in classifiers}\n",
    "\n",
    "# Make predictions using the models\n",
    "predictions = {i: models[i].transform(testData).select(\"label\", \"prediction\") for i in classifiers}\n",
    "\n",
    "# Display the result\n",
    "for i in predictions:\n",
    "    print(i)\n",
    "    predictions[i].show(5, truncate=False)"
   ]
  },
  {
   "cell_type": "code",
   "execution_count": 19,
   "metadata": {},
   "outputs": [
    {
     "name": "stdout",
     "output_type": "stream",
     "text": [
      "Decision Tree\n",
      "Test Error = 0.16408734365062538 \n",
      "Accuracy = 0.8359126563493746\n",
      "\n",
      "Random Forest\n",
      "Test Error = 0.16406378818929168 \n",
      "Accuracy = 0.8359362118107083\n",
      "\n",
      "Logistic Regression\n",
      "Test Error = 0.16269757143193653 \n",
      "Accuracy = 0.8373024285680635\n",
      "\n",
      "Gradient Boosted Tree\n",
      "Test Error = 0.15624337502649988 \n",
      "Accuracy = 0.8437566249735001\n",
      "\n"
     ]
    }
   ],
   "source": [
    "evaluator = MulticlassClassificationEvaluator(labelCol=\"label\",\n",
    "                                              predictionCol=\"prediction\",\n",
    "                                              metricName=\"accuracy\")\n",
    "\n",
    "accuracy = {i: evaluator.evaluate(predictions[i]) for i in classifiers}\n",
    "\n",
    "for i in accuracy:\n",
    "    print(i)\n",
    "    print(\"Test Error = {0} \".format(1.0 - accuracy[i]))\n",
    "    print(\"Accuracy = {0}\".format(accuracy[i]))\n",
    "    print()"
   ]
  },
  {
   "cell_type": "code",
   "execution_count": 20,
   "metadata": {},
   "outputs": [
    {
     "data": {
      "image/png": "[encoded data removed]",
      "text/plain": [
       "<Figure size 3300x1500 with 1 Axes>"
      ]
     },
     "metadata": {
      "needs_background": "light"
     },
     "output_type": "display_data"
    }
   ],
   "source": [
    "# Iniitialise the canvas\n",
    "fig, ax = plt.subplots(dpi=300)\n",
    "\n",
    "# Plot the bar chart\n",
    "ax.bar(accuracy.keys(), accuracy.values(), edgecolor=\"black\", color=\"orange\")\n",
    "\n",
    "# Set the limit of y-axis to maximise the difference\n",
    "ax.set_ylim(bottom=0.830, top=0.845)\n",
    "\n",
    "# Set the title and axis label\n",
    "ax.set_title(\"Comparision of \\nDifferent Machine Learning Algorithms\")\n",
    "ax.set_ylabel(\"Accuracy\")\n",
    "\n",
    "# Set the size of the canvas\n",
    "fig.set_size_inches(11,5)\n",
    "\n",
    "plt.show()"
   ]
  },
  {
   "cell_type": "markdown",
   "metadata": {},
   "source": [
    "### Step 09: Calculate the confusion matrix and find the precision, recall, and F1 score of each classification algorithm. Explain how the accuracy of the predication can be improved?"
   ]
  },
  {
   "cell_type": "markdown",
   "metadata": {},
   "source": [
    "#### a. Confusion Matrices"
   ]
  },
  {
   "cell_type": "code",
   "execution_count": 21,
   "metadata": {},
   "outputs": [],
   "source": [
    "def confusionMatrix(result):\n",
    "    matrix = {}\n",
    "    \n",
    "    # Calculate true positive, false positive, true negative and false negative\n",
    "    tp = result.where(result[\"label\"] == 1).where(result[\"prediction\"] == 1).count()\n",
    "    fp = result.where(result[\"label\"] == 0).where(result[\"prediction\"] == 1).count()\n",
    "    tn = result.where(result[\"label\"] == 0).where(result[\"prediction\"] == 0).count()\n",
    "    fn = result.where(result[\"label\"] == 1).where(result[\"prediction\"] == 0).count()\n",
    "    \n",
    "    # Base on the calculation, calculate these parameters\n",
    "    matrix[\"True Positive\"] = tp\n",
    "    matrix[\"False Positive\"] = fp\n",
    "    matrix[\"True Negative\"] = tn\n",
    "    matrix[\"False Negative\"] = fn\n",
    "    matrix[\"Precision\"] = tp/(tp+fp)\n",
    "    matrix[\"Recall\"] = tp/(tp+fn)\n",
    "    matrix[\"F1 score\"] = 2*tp/(2*tp + fp + fn)\n",
    "    \n",
    "    return matrix"
   ]
  },
  {
   "cell_type": "markdown",
   "metadata": {},
   "source": [
    "Notice that in this case \"positive\" refers to \"It is going to rain tomorrow\" and \"negative\" otherwise."
   ]
  },
  {
   "cell_type": "code",
   "execution_count": 22,
   "metadata": {},
   "outputs": [
    {
     "name": "stdout",
     "output_type": "stream",
     "text": [
      "Decision Tree\n",
      "True Positive: 3725\n",
      "False Positive: 1308\n",
      "True Negative: 31762\n",
      "False Negative: 5658\n",
      "Precision: 0.7401152394198292\n",
      "Recall: 0.39699456463817545\n",
      "F1 score: 0.5167869034406215\n",
      "\n",
      "Random Forest\n",
      "True Positive: 3678\n",
      "False Positive: 1260\n",
      "True Negative: 31810\n",
      "False Negative: 5705\n",
      "Precision: 0.7448359659781288\n",
      "Recall: 0.39198550570180113\n",
      "F1 score: 0.5136512813351023\n",
      "\n",
      "Logistic Regression\n",
      "True Positive: 4233\n",
      "False Positive: 1757\n",
      "True Negative: 31313\n",
      "False Negative: 5150\n",
      "Precision: 0.7066777963272121\n",
      "Recall: 0.451135031439838\n",
      "F1 score: 0.5507057828660639\n",
      "\n",
      "Gradient Boosted Tree\n",
      "True Positive: 4480\n",
      "False Positive: 1730\n",
      "True Negative: 31340\n",
      "False Negative: 4903\n",
      "Precision: 0.7214170692431562\n",
      "Recall: 0.4774592347863157\n",
      "F1 score: 0.5746168152376067\n",
      "\n"
     ]
    }
   ],
   "source": [
    "confusionMatrices = {i:confusionMatrix(predictions[i]) for i in predictions}\n",
    "\n",
    "for i in confusionMatrices:\n",
    "    print(i)\n",
    "    for j in confusionMatrices[i]:\n",
    "        print(j+\":\", confusionMatrices[i][j])\n",
    "    print()"
   ]
  },
  {
   "cell_type": "markdown",
   "metadata": {},
   "source": [
    "#### Improving Accuracy"
   ]
  },
  {
   "cell_type": "markdown",
   "metadata": {},
   "source": [
    "We decided to firstly tune the parameters of the models."
   ]
  },
  {
   "cell_type": "markdown",
   "metadata": {},
   "source": [
    "##### Decision Tree"
   ]
  },
  {
   "cell_type": "code",
   "execution_count": 42,
   "metadata": {},
   "outputs": [],
   "source": [
    "output_1 = ParamGridBuilder().addGrid(classifiers[\"Decision Tree\"].maxDepth,\n",
    "                                      [5, 6, 7, 8])\\\n",
    "                             .addGrid(classifiers[\"Decision Tree\"].maxBins,\n",
    "                                      [35, 37, 40])\\\n",
    "                             .build()\n",
    "\n",
    "cv_1 = CrossValidator(estimator=classifiers[\"Decision Tree\"],\n",
    "                      estimatorParamMaps=output_1,\n",
    "                      evaluator=evaluator,\n",
    "                      numFolds=5,\n",
    "                      parallelism=4)\n",
    "\n",
    "cvmodel_1 = cv_1.fit(trainingData)\n",
    "pred_1 = cvmodel_1.transform(testData)"
   ]
  },
  {
   "cell_type": "code",
   "execution_count": 43,
   "metadata": {},
   "outputs": [
    {
     "name": "stdout",
     "output_type": "stream",
     "text": [
      "After tuning, the accuracy is: \n",
      "0.8390455327067581\n",
      "---------------------------------\n",
      "Before tuning, the accuracy is: \n",
      "0.8354179916613667\n"
     ]
    }
   ],
   "source": [
    "print('After tuning, the accuracy is: ')\n",
    "print(evaluator.evaluate(pred_1))\n",
    "print(\"---------------------------------\")\n",
    "print('Before tuning, the accuracy is: ')\n",
    "print(accuracy[\"Decision Tree\"])"
   ]
  },
  {
   "cell_type": "code",
   "execution_count": 44,
   "metadata": {},
   "outputs": [
    {
     "name": "stdout",
     "output_type": "stream",
     "text": [
      "After tuning, the confusion matrix is: \n",
      "{'True Positive': 4332, 'False Positive': 1782, 'True Negative': 31288, 'False Negative': 5051, 'Precision': 0.7085377821393523, 'Recall': 0.4616860279228392, 'F1 score': 0.5590759501839065}\n",
      "---------------------------------\n",
      "Before tuning, the confusion matrix is: \n",
      "{'True Positive': 3739, 'False Positive': 1343, 'True Negative': 31727, 'False Negative': 5644, 'Precision': 0.7357339630066903, 'Recall': 0.3984866247468827, 'F1 score': 0.5169720013826478}\n"
     ]
    }
   ],
   "source": [
    "print('After tuning, the confusion matrix is: ')\n",
    "print(confusionMatrix(pred_1))\n",
    "print(\"---------------------------------\")\n",
    "print('Before tuning, the confusion matrix is: ')\n",
    "print(confusionMatrices[\"Decision Tree\"])"
   ]
  },
  {
   "cell_type": "markdown",
   "metadata": {},
   "source": [
    "It could be observed the accuracy of decision tree increased after tuning. We did sacrifice a little precision, as it could be seen from the confusion matrix; but we had significant increase of recall."
   ]
  },
  {
   "cell_type": "markdown",
   "metadata": {},
   "source": [
    "##### Random Forest"
   ]
  },
  {
   "cell_type": "code",
   "execution_count": 45,
   "metadata": {},
   "outputs": [],
   "source": [
    "output_2 = ParamGridBuilder().addGrid(classifiers[\"Random Forest\"].maxDepth,\n",
    "                                      [5, 6, 7, 8])\\\n",
    "                             .addGrid(classifiers[\"Random Forest\"].maxBins,\n",
    "                                      [35, 37, 40])\\\n",
    "                             .addGrid(classifiers[\"Random Forest\"].numTrees,\n",
    "                                      [20, 25, 30])\\\n",
    "                             .build()\n",
    "\n",
    "cv_2 = CrossValidator(estimator=classifiers[\"Random Forest\"],\n",
    "                      estimatorParamMaps=output_2,\n",
    "                      evaluator=evaluator,\n",
    "                      numFolds=5,\n",
    "                      parallelism=4)\n",
    "\n",
    "cvmodel_2 = cv_2.fit(trainingData)\n",
    "pred_2 = cvmodel_2.transform(testData)"
   ]
  },
  {
   "cell_type": "code",
   "execution_count": 46,
   "metadata": {},
   "outputs": [
    {
     "name": "stdout",
     "output_type": "stream",
     "text": [
      "After tuning, the accuracy is: \n",
      "0.842790851058818\n",
      "---------------------------------\n",
      "Before tuning, the accuracy is: \n",
      "0.8361953218853792\n"
     ]
    }
   ],
   "source": [
    "print('After tuning, the accuracy is: ')\n",
    "print(evaluator.evaluate(pred_2))\n",
    "print(\"---------------------------------\")\n",
    "print('Before tuning, the accuracy is: ')\n",
    "print(accuracy[\"Random Forest\"])"
   ]
  },
  {
   "cell_type": "code",
   "execution_count": 48,
   "metadata": {
    "scrolled": true
   },
   "outputs": [
    {
     "name": "stdout",
     "output_type": "stream",
     "text": [
      "After tuning, the confusion matrix is: \n",
      "{'True Positive': 4047, 'False Positive': 1338, 'True Negative': 31732, 'False Negative': 5336, 'Precision': 0.7515320334261838, 'Recall': 0.43131194713844184, 'F1 score': 0.5480769230769231}\n",
      "---------------------------------\n",
      "Before tuning, the confusion matrix is: \n",
      "{'True Positive': 3535, 'False Positive': 1106, 'True Negative': 31964, 'False Negative': 5848, 'Precision': 0.7616892911010558, 'Recall': 0.3767451774485772, 'F1 score': 0.5041357672561323}\n"
     ]
    }
   ],
   "source": [
    "print('After tuning, the confusion matrix is: ')\n",
    "print(confusionMatrix(pred_2))\n",
    "print(\"---------------------------------\")\n",
    "print('Before tuning, the confusion matrix is: ')\n",
    "print(confusionMatrices[\"Random Forest\"])"
   ]
  },
  {
   "cell_type": "markdown",
   "metadata": {},
   "source": [
    "The result of tuning random forest is similar to the one of decision tree. We sacrificed a little precision in trade of significant increase of recall, and higher F1 score."
   ]
  },
  {
   "cell_type": "markdown",
   "metadata": {},
   "source": [
    "##### Logistic Regression"
   ]
  },
  {
   "cell_type": "code",
   "execution_count": 47,
   "metadata": {},
   "outputs": [],
   "source": [
    "output_3 = ParamGridBuilder().addGrid(classifiers[\"Logistic Regression\"].threshold,\n",
    "                                      [0.3, 0.4, 0.5, 0.55])\\\n",
    "                             .build()\n",
    "\n",
    "cv_3 = CrossValidator(estimator=classifiers[\"Logistic Regression\"],\n",
    "                      estimatorParamMaps=output_3,\n",
    "                      evaluator=evaluator,\n",
    "                      numFolds=5,\n",
    "                      parallelism=4)\n",
    "\n",
    "cvmodel_3 = cv_3.fit(trainingData)\n",
    "pred_3 = cvmodel_3.transform(testData)"
   ]
  },
  {
   "cell_type": "code",
   "execution_count": 49,
   "metadata": {},
   "outputs": [
    {
     "name": "stdout",
     "output_type": "stream",
     "text": [
      "After tuning, the accuracy is: \n",
      "0.8375379831814006\n",
      "---------------------------------\n",
      "Before tuning, the accuracy is: \n",
      "0.837585094104068\n"
     ]
    }
   ],
   "source": [
    "print('After tuning, the accuracy is: ')\n",
    "print(evaluator.evaluate(pred_3))\n",
    "print(\"---------------------------------\")\n",
    "print('Before tuning, the accuracy is: ')\n",
    "print(accuracy[\"Logistic Regression\"])"
   ]
  },
  {
   "cell_type": "code",
   "execution_count": 50,
   "metadata": {},
   "outputs": [
    {
     "name": "stdout",
     "output_type": "stream",
     "text": [
      "After tuning, the confusion matrix is: \n",
      "{'True Positive': 4162, 'False Positive': 1676, 'True Negative': 31394, 'False Negative': 5221, 'Precision': 0.7129153819801302, 'Recall': 0.4435681551742513, 'F1 score': 0.5468760265422771}\n",
      "---------------------------------\n",
      "Before tuning, the confusion matrix is: \n",
      "{'True Positive': 4156, 'False Positive': 1668, 'True Negative': 31402, 'False Negative': 5227, 'Precision': 0.7135989010989011, 'Recall': 0.4429287008419482, 'F1 score': 0.5465903860064444}\n"
     ]
    }
   ],
   "source": [
    "print('After tuning, the confusion matrix is: ')\n",
    "print(confusionMatrix(pred_3))\n",
    "print(\"---------------------------------\")\n",
    "print('Before tuning, the confusion matrix is: ')\n",
    "print(confusionMatrices[\"Logistic Regression\"])"
   ]
  },
  {
   "cell_type": "markdown",
   "metadata": {},
   "source": [
    "We noticed that after tuning, the accuracy of the model slightly declined. We considered that randomness was to be blamed. Hence, we think there is not much we could do to improve the accuracy of logistic regression via tuning parameters."
   ]
  },
  {
   "cell_type": "markdown",
   "metadata": {},
   "source": [
    "##### Gradient Boosted Tree"
   ]
  },
  {
   "cell_type": "code",
   "execution_count": 24,
   "metadata": {},
   "outputs": [],
   "source": [
    "output_4 = ParamGridBuilder().addGrid(classifiers[\"Gradient Boosted Tree\"].maxDepth,\n",
    "                                      [2, 4, 6])\\\n",
    "                             .addGrid(classifiers[\"Gradient Boosted Tree\"].maxBins,\n",
    "                                      [20, 60])\\\n",
    "                             .addGrid(classifiers[\"Gradient Boosted Tree\"].maxIter,\n",
    "                                      [20, 25])\\\n",
    "                             .build()\n",
    "\n",
    "cv_4 = CrossValidator(estimator=classifiers[\"Gradient Boosted Tree\"],\n",
    "                      estimatorParamMaps=output_4,\n",
    "                      evaluator=evaluator,\n",
    "                      numFolds=5,\n",
    "                      parallelism=4)\n",
    "\n",
    "cvmodel_4 = cv_4.fit(trainingData)\n",
    "pred_4 = cvmodel_4.transform(testData)"
   ]
  },
  {
   "cell_type": "code",
   "execution_count": 28,
   "metadata": {},
   "outputs": [
    {
     "name": "stdout",
     "output_type": "stream",
     "text": [
      "After tuning, the accuracy is: \n",
      "0.8455703954961958\n",
      "---------------------------------\n",
      "Before tuning, the accuracy is: \n",
      "0.8448401761948507\n"
     ]
    }
   ],
   "source": [
    "print('After tuning, the accuracy is: ')\n",
    "print(evaluator.evaluate(pred_4))\n",
    "print(\"---------------------------------\")\n",
    "print('Before tuning, the accuracy is: ')\n",
    "print(accuracy[\"Gradient Boosted Tree\"])"
   ]
  },
  {
   "cell_type": "code",
   "execution_count": 29,
   "metadata": {},
   "outputs": [
    {
     "name": "stdout",
     "output_type": "stream",
     "text": [
      "After tuning, the confusion matrix is: \n",
      "{'True Positive': 4612, 'False Positive': 1785, 'True Negative': 31285, 'False Negative': 4771, 'Precision': 0.720962951383461, 'Recall': 0.4915272300969839, 'F1 score': 0.5845373891001268}\n",
      "---------------------------------\n",
      "Before tuning, the confusion matrix is: \n",
      "{'True Positive': 4466, 'False Positive': 1670, 'True Negative': 31400, 'False Negative': 4917, 'Precision': 0.7278357235984355, 'Recall': 0.47596717467760846, 'F1 score': 0.575552548488949}\n"
     ]
    }
   ],
   "source": [
    "print('After tuning, the confusion matrix is: ')\n",
    "print(confusionMatrix(pred_4))\n",
    "print(\"---------------------------------\")\n",
    "print('Before tuning, the confusion matrix is: ')\n",
    "print(confusionMatrices[\"Gradient Boosted Tree\"])"
   ]
  },
  {
   "cell_type": "markdown",
   "metadata": {},
   "source": [
    "We can see that by tuning parameter we slightly improved accuracy of the model."
   ]
  },
  {
   "cell_type": "markdown",
   "metadata": {},
   "source": [
    "#### Other methods"
   ]
  },
  {
   "cell_type": "markdown",
   "metadata": {},
   "source": [
    "##### Feature scaling"
   ]
  },
  {
   "cell_type": "markdown",
   "metadata": {},
   "source": [
    "We observe that for pressure data are very different in scales. It is possible that the scale will effect the precision of the model."
   ]
  },
  {
   "cell_type": "code",
   "execution_count": 23,
   "metadata": {},
   "outputs": [],
   "source": [
    "scaler = MinMaxScaler(inputCol=\"features\", outputCol=\"scaledFeatures\")\n",
    "scaleModel = scaler.fit(df_vectorised)\n",
    "df_scaled = scaleModel.transform(df_vectorised)"
   ]
  },
  {
   "cell_type": "code",
   "execution_count": 24,
   "metadata": {},
   "outputs": [],
   "source": [
    "(trainingData_s, testData_s) = df_scaled.randomSplit([0.7, 0.3], seed = 100)"
   ]
  },
  {
   "cell_type": "code",
   "execution_count": 25,
   "metadata": {},
   "outputs": [],
   "source": [
    "# Chunk the classifiers into a dictionary to automate the process\n",
    "classifiers_n = {\"Decision Tree\": DecisionTreeClassifier(labelCol=\"label\", featuresCol=\"scaledFeatures\"),\n",
    "              \"Random Forest\": RandomForestClassifier(labelCol=\"label\", featuresCol=\"scaledFeatures\"),\n",
    "              \"Logistic Regression\": LogisticRegression(labelCol=\"label\", featuresCol=\"scaledFeatures\"),\n",
    "              \"Gradient Boosted Tree\": GBTClassifier(labelCol=\"label\", featuresCol=\"scaledFeatures\")}\n",
    "\n",
    "# Build models on the classifiers, chunked them into a dictionary\n",
    "models_n = {i: classifiers_n[i].fit(trainingData_s) for i in classifiers_n}\n",
    "\n",
    "# Make predictions using the models\n",
    "predictions_n = {i: models_n[i].transform(testData_s).select(\"label\", \"prediction\") for i in classifiers_n}"
   ]
  },
  {
   "cell_type": "code",
   "execution_count": 26,
   "metadata": {},
   "outputs": [
    {
     "name": "stdout",
     "output_type": "stream",
     "text": [
      "Decision Tree\n",
      "Using scaled data:\n",
      "Accuracy = 0.8354415471227004\n",
      "Using unscaled data:\n",
      "Accuracy = 0.8352766588933644\n",
      "\n",
      "Random Forest\n",
      "Using scaled data:\n",
      "Accuracy = 0.8353473252773655\n",
      "Using unscaled data:\n",
      "Accuracy = 0.8356535462747038\n",
      "\n",
      "Logistic Regression\n",
      "Using scaled data:\n",
      "Accuracy = 0.8380326478694086\n",
      "Using unscaled data:\n",
      "Accuracy = 0.8369726521093915\n",
      "\n",
      "Gradient Boosted Tree\n",
      "Using scaled data:\n",
      "Accuracy = 0.8439450686641697\n",
      "Using unscaled data:\n",
      "Accuracy = 0.843921513202836\n",
      "\n"
     ]
    }
   ],
   "source": [
    "accuracy_n = {i: evaluator.evaluate(predictions_n[i]) for i in classifiers_n}\n",
    "\n",
    "for i in accuracy_n:\n",
    "    print(i)\n",
    "    print(\"Using scaled data:\")\n",
    "    print(\"Accuracy = {0}\".format(accuracy_n[i]))\n",
    "    print(\"Using unscaled data:\")\n",
    "    print(\"Accuracy = {0}\".format(accuracy[i]))\n",
    "    print()"
   ]
  },
  {
   "cell_type": "markdown",
   "metadata": {},
   "source": [
    "We can hardly see significant differences between using scaled and unscaled data. Hence we consider that scaling the features will not be likely to improve precision."
   ]
  },
  {
   "cell_type": "markdown",
   "metadata": {},
   "source": [
    "##### Using more data"
   ]
  },
  {
   "cell_type": "code",
   "execution_count": 23,
   "metadata": {},
   "outputs": [],
   "source": [
    "(trainingData_m, testData_l) = df_vectorised.randomSplit([0.8, 0.2], seed = 100)"
   ]
  },
  {
   "cell_type": "code",
   "execution_count": 24,
   "metadata": {},
   "outputs": [],
   "source": [
    "# Chunk the classifiers into a dictionary to automate the process\n",
    "# \"a\" after the underline stands for \"amount\"\n",
    "\n",
    "classifiers_a = {\"Decision Tree\": DecisionTreeClassifier(labelCol=\"label\", featuresCol=\"features\"),\n",
    "              \"Random Forest\": RandomForestClassifier(labelCol=\"label\", featuresCol=\"features\"),\n",
    "              \"Logistic Regression\": LogisticRegression(labelCol=\"label\", featuresCol=\"features\"),\n",
    "              \"Gradient Boosted Tree\": GBTClassifier(labelCol=\"label\", featuresCol=\"features\")}\n",
    "\n",
    "# Build models on the classifiers, chunked them into a dictionary\n",
    "models_a = {i: classifiers[i].fit(trainingData_m) for i in classifiers_a}\n",
    "\n",
    "# Make predictions using the models\n",
    "predictions_a = {i: models_a[i].transform(testData_l).select(\"label\", \"prediction\") for i in classifiers_a}\n"
   ]
  },
  {
   "cell_type": "code",
   "execution_count": 25,
   "metadata": {},
   "outputs": [
    {
     "name": "stdout",
     "output_type": "stream",
     "text": [
      "Decision Tree\n",
      "More data\n",
      "Accuracy = 0.8380895480424545\n",
      "Less data\n",
      "Accuracy = 0.8359126563493746\n",
      "\n",
      "Random Forest\n",
      "More data\n",
      "Accuracy = 0.8384058480354256\n",
      "Less data\n",
      "Accuracy = 0.8359362118107083\n",
      "\n",
      "Logistic Regression\n",
      "More data\n",
      "Accuracy = 0.8382652702607718\n",
      "Less data\n",
      "Accuracy = 0.8373024285680635\n",
      "\n",
      "Gradient Boosted Tree\n",
      "More data\n",
      "Accuracy = 0.8466999367400014\n",
      "Less data\n",
      "Accuracy = 0.8437566249735001\n",
      "\n"
     ]
    }
   ],
   "source": [
    "accuracy_a = {i: evaluator.evaluate(predictions_a[i]) for i in classifiers_a}\n",
    "\n",
    "for i in accuracy_a:\n",
    "    print(i)\n",
    "    print(\"More data\")\n",
    "    print(\"Accuracy = {0}\".format(accuracy_a[i]))\n",
    "    print(\"Less data\")\n",
    "    print(\"Accuracy = {0}\".format(accuracy[i]))\n",
    "    print()"
   ]
  },
  {
   "cell_type": "markdown",
   "metadata": {},
   "source": [
    "##### Using more features"
   ]
  },
  {
   "cell_type": "code",
   "execution_count": 26,
   "metadata": {},
   "outputs": [
    {
     "name": "stdout",
     "output_type": "stream",
     "text": [
      "root\n",
      " |-- MinTemp: string (nullable = true)\n",
      " |-- MaxTemp: string (nullable = true)\n",
      " |-- Rainfall: string (nullable = true)\n",
      " |-- WindGustDir: string (nullable = true)\n",
      " |-- WindGustSpeed: string (nullable = true)\n",
      " |-- WindDir9am: string (nullable = true)\n",
      " |-- WindDir3pm: string (nullable = true)\n",
      " |-- WindSpeed9am: string (nullable = true)\n",
      " |-- WindSpeed3pm: string (nullable = true)\n",
      " |-- Humidity9am: string (nullable = true)\n",
      " |-- Humidity3pm: string (nullable = true)\n",
      " |-- Pressure9am: string (nullable = true)\n",
      " |-- Pressure3pm: string (nullable = true)\n",
      " |-- Cloud9am: string (nullable = true)\n",
      " |-- Cloud3pm: string (nullable = true)\n",
      " |-- Temp9am: string (nullable = true)\n",
      " |-- Temp3pm: string (nullable = true)\n",
      " |-- RainToday: string (nullable = true)\n",
      " |-- RainTomorrow: string (nullable = true)\n",
      "\n",
      "-RECORD 0---------------\n",
      " MinTemp       | 13.4   \n",
      " MaxTemp       | 22.9   \n",
      " Rainfall      | 0.6    \n",
      " WindGustDir   | W      \n",
      " WindGustSpeed | 44     \n",
      " WindDir9am    | W      \n",
      " WindDir3pm    | WNW    \n",
      " WindSpeed9am  | 20     \n",
      " WindSpeed3pm  | 24     \n",
      " Humidity9am   | 71     \n",
      " Humidity3pm   | 22     \n",
      " Pressure9am   | 1007.7 \n",
      " Pressure3pm   | 1007.1 \n",
      " Cloud9am      | 8      \n",
      " Cloud3pm      | null   \n",
      " Temp9am       | 16.9   \n",
      " Temp3pm       | 21.8   \n",
      " RainToday     | No     \n",
      " RainTomorrow  | No     \n",
      "-RECORD 1---------------\n",
      " MinTemp       | 7.4    \n",
      " MaxTemp       | 25.1   \n",
      " Rainfall      | 0      \n",
      " WindGustDir   | WNW    \n",
      " WindGustSpeed | 44     \n",
      " WindDir9am    | NNW    \n",
      " WindDir3pm    | WSW    \n",
      " WindSpeed9am  | 4      \n",
      " WindSpeed3pm  | 22     \n",
      " Humidity9am   | 44     \n",
      " Humidity3pm   | 25     \n",
      " Pressure9am   | 1010.6 \n",
      " Pressure3pm   | 1007.8 \n",
      " Cloud9am      | null   \n",
      " Cloud3pm      | null   \n",
      " Temp9am       | 17.2   \n",
      " Temp3pm       | 24.3   \n",
      " RainToday     | No     \n",
      " RainTomorrow  | No     \n",
      "-RECORD 2---------------\n",
      " MinTemp       | 12.9   \n",
      " MaxTemp       | 25.7   \n",
      " Rainfall      | 0      \n",
      " WindGustDir   | WSW    \n",
      " WindGustSpeed | 46     \n",
      " WindDir9am    | W      \n",
      " WindDir3pm    | WSW    \n",
      " WindSpeed9am  | 19     \n",
      " WindSpeed3pm  | 26     \n",
      " Humidity9am   | 38     \n",
      " Humidity3pm   | 30     \n",
      " Pressure9am   | 1007.6 \n",
      " Pressure3pm   | 1008.7 \n",
      " Cloud9am      | null   \n",
      " Cloud3pm      | 2      \n",
      " Temp9am       | 21     \n",
      " Temp3pm       | 23.2   \n",
      " RainToday     | No     \n",
      " RainTomorrow  | No     \n",
      "-RECORD 3---------------\n",
      " MinTemp       | 9.2    \n",
      " MaxTemp       | 28     \n",
      " Rainfall      | 0      \n",
      " WindGustDir   | NE     \n",
      " WindGustSpeed | 24     \n",
      " WindDir9am    | SE     \n",
      " WindDir3pm    | E      \n",
      " WindSpeed9am  | 11     \n",
      " WindSpeed3pm  | 9      \n",
      " Humidity9am   | 45     \n",
      " Humidity3pm   | 16     \n",
      " Pressure9am   | 1017.6 \n",
      " Pressure3pm   | 1012.8 \n",
      " Cloud9am      | null   \n",
      " Cloud3pm      | null   \n",
      " Temp9am       | 18.1   \n",
      " Temp3pm       | 26.5   \n",
      " RainToday     | No     \n",
      " RainTomorrow  | No     \n",
      "-RECORD 4---------------\n",
      " MinTemp       | 17.5   \n",
      " MaxTemp       | 32.3   \n",
      " Rainfall      | 1      \n",
      " WindGustDir   | W      \n",
      " WindGustSpeed | 41     \n",
      " WindDir9am    | ENE    \n",
      " WindDir3pm    | NW     \n",
      " WindSpeed9am  | 7      \n",
      " WindSpeed3pm  | 20     \n",
      " Humidity9am   | 82     \n",
      " Humidity3pm   | 33     \n",
      " Pressure9am   | 1010.8 \n",
      " Pressure3pm   | 1006   \n",
      " Cloud9am      | 7      \n",
      " Cloud3pm      | 8      \n",
      " Temp9am       | 17.8   \n",
      " Temp3pm       | 29.7   \n",
      " RainToday     | No     \n",
      " RainTomorrow  | No     \n",
      "-RECORD 5---------------\n",
      " MinTemp       | 14.6   \n",
      " MaxTemp       | 29.7   \n",
      " Rainfall      | 0.2    \n",
      " WindGustDir   | WNW    \n",
      " WindGustSpeed | 56     \n",
      " WindDir9am    | W      \n",
      " WindDir3pm    | W      \n",
      " WindSpeed9am  | 19     \n",
      " WindSpeed3pm  | 24     \n",
      " Humidity9am   | 55     \n",
      " Humidity3pm   | 23     \n",
      " Pressure9am   | 1009.2 \n",
      " Pressure3pm   | 1005.4 \n",
      " Cloud9am      | null   \n",
      " Cloud3pm      | null   \n",
      " Temp9am       | 20.6   \n",
      " Temp3pm       | 28.9   \n",
      " RainToday     | No     \n",
      " RainTomorrow  | No     \n",
      "-RECORD 6---------------\n",
      " MinTemp       | 14.3   \n",
      " MaxTemp       | 25     \n",
      " Rainfall      | 0      \n",
      " WindGustDir   | W      \n",
      " WindGustSpeed | 50     \n",
      " WindDir9am    | SW     \n",
      " WindDir3pm    | W      \n",
      " WindSpeed9am  | 20     \n",
      " WindSpeed3pm  | 24     \n",
      " Humidity9am   | 49     \n",
      " Humidity3pm   | 19     \n",
      " Pressure9am   | 1009.6 \n",
      " Pressure3pm   | 1008.2 \n",
      " Cloud9am      | 1      \n",
      " Cloud3pm      | null   \n",
      " Temp9am       | 18.1   \n",
      " Temp3pm       | 24.6   \n",
      " RainToday     | No     \n",
      " RainTomorrow  | No     \n",
      "-RECORD 7---------------\n",
      " MinTemp       | 7.7    \n",
      " MaxTemp       | 26.7   \n",
      " Rainfall      | 0      \n",
      " WindGustDir   | W      \n",
      " WindGustSpeed | 35     \n",
      " WindDir9am    | SSE    \n",
      " WindDir3pm    | W      \n",
      " WindSpeed9am  | 6      \n",
      " WindSpeed3pm  | 17     \n",
      " Humidity9am   | 48     \n",
      " Humidity3pm   | 19     \n",
      " Pressure9am   | 1013.4 \n",
      " Pressure3pm   | 1010.1 \n",
      " Cloud9am      | null   \n",
      " Cloud3pm      | null   \n",
      " Temp9am       | 16.3   \n",
      " Temp3pm       | 25.5   \n",
      " RainToday     | No     \n",
      " RainTomorrow  | No     \n",
      "-RECORD 8---------------\n",
      " MinTemp       | 9.7    \n",
      " MaxTemp       | 31.9   \n",
      " Rainfall      | 0      \n",
      " WindGustDir   | NNW    \n",
      " WindGustSpeed | 80     \n",
      " WindDir9am    | SE     \n",
      " WindDir3pm    | NW     \n",
      " WindSpeed9am  | 7      \n",
      " WindSpeed3pm  | 28     \n",
      " Humidity9am   | 42     \n",
      " Humidity3pm   | 9      \n",
      " Pressure9am   | 1008.9 \n",
      " Pressure3pm   | 1003.6 \n",
      " Cloud9am      | null   \n",
      " Cloud3pm      | null   \n",
      " Temp9am       | 18.3   \n",
      " Temp3pm       | 30.2   \n",
      " RainToday     | No     \n",
      " RainTomorrow  | Yes    \n",
      "-RECORD 9---------------\n",
      " MinTemp       | 13.1   \n",
      " MaxTemp       | 30.1   \n",
      " Rainfall      | 1.4    \n",
      " WindGustDir   | W      \n",
      " WindGustSpeed | 28     \n",
      " WindDir9am    | S      \n",
      " WindDir3pm    | SSE    \n",
      " WindSpeed9am  | 15     \n",
      " WindSpeed3pm  | 11     \n",
      " Humidity9am   | 58     \n",
      " Humidity3pm   | 27     \n",
      " Pressure9am   | 1007   \n",
      " Pressure3pm   | 1005.7 \n",
      " Cloud9am      | null   \n",
      " Cloud3pm      | null   \n",
      " Temp9am       | 20.1   \n",
      " Temp3pm       | 28.2   \n",
      " RainToday     | Yes    \n",
      " RainTomorrow  | No     \n",
      "-RECORD 10--------------\n",
      " MinTemp       | 13.4   \n",
      " MaxTemp       | 30.4   \n",
      " Rainfall      | 0      \n",
      " WindGustDir   | N      \n",
      " WindGustSpeed | 30     \n",
      " WindDir9am    | SSE    \n",
      " WindDir3pm    | ESE    \n",
      " WindSpeed9am  | 17     \n",
      " WindSpeed3pm  | 6      \n",
      " Humidity9am   | 48     \n",
      " Humidity3pm   | 22     \n",
      " Pressure9am   | 1011.8 \n",
      " Pressure3pm   | 1008.7 \n",
      " Cloud9am      | null   \n",
      " Cloud3pm      | null   \n",
      " Temp9am       | 20.4   \n",
      " Temp3pm       | 28.8   \n",
      " RainToday     | No     \n",
      " RainTomorrow  | Yes    \n",
      "-RECORD 11--------------\n",
      " MinTemp       | 15.9   \n",
      " MaxTemp       | 21.7   \n",
      " Rainfall      | 2.2    \n",
      " WindGustDir   | NNE    \n",
      " WindGustSpeed | 31     \n",
      " WindDir9am    | NE     \n",
      " WindDir3pm    | ENE    \n",
      " WindSpeed9am  | 15     \n",
      " WindSpeed3pm  | 13     \n",
      " Humidity9am   | 89     \n",
      " Humidity3pm   | 91     \n",
      " Pressure9am   | 1010.5 \n",
      " Pressure3pm   | 1004.2 \n",
      " Cloud9am      | 8      \n",
      " Cloud3pm      | 8      \n",
      " Temp9am       | 15.9   \n",
      " Temp3pm       | 17     \n",
      " RainToday     | Yes    \n",
      " RainTomorrow  | Yes    \n",
      "-RECORD 12--------------\n",
      " MinTemp       | 15.9   \n",
      " MaxTemp       | 18.6   \n",
      " Rainfall      | 15.6   \n",
      " WindGustDir   | W      \n",
      " WindGustSpeed | 61     \n",
      " WindDir9am    | NNW    \n",
      " WindDir3pm    | NNW    \n",
      " WindSpeed9am  | 28     \n",
      " WindSpeed3pm  | 28     \n",
      " Humidity9am   | 76     \n",
      " Humidity3pm   | 93     \n",
      " Pressure9am   | 994.3  \n",
      " Pressure3pm   | 993    \n",
      " Cloud9am      | 8      \n",
      " Cloud3pm      | 8      \n",
      " Temp9am       | 17.4   \n",
      " Temp3pm       | 15.8   \n",
      " RainToday     | Yes    \n",
      " RainTomorrow  | Yes    \n",
      "-RECORD 13--------------\n",
      " MinTemp       | 12.6   \n",
      " MaxTemp       | 21     \n",
      " Rainfall      | 3.6    \n",
      " WindGustDir   | SW     \n",
      " WindGustSpeed | 44     \n",
      " WindDir9am    | W      \n",
      " WindDir3pm    | SSW    \n",
      " WindSpeed9am  | 24     \n",
      " WindSpeed3pm  | 20     \n",
      " Humidity9am   | 65     \n",
      " Humidity3pm   | 43     \n",
      " Pressure9am   | 1001.2 \n",
      " Pressure3pm   | 1001.8 \n",
      " Cloud9am      | null   \n",
      " Cloud3pm      | 7      \n",
      " Temp9am       | 15.8   \n",
      " Temp3pm       | 19.8   \n",
      " RainToday     | Yes    \n",
      " RainTomorrow  | No     \n",
      "-RECORD 14--------------\n",
      " MinTemp       | 9.8    \n",
      " MaxTemp       | 27.7   \n",
      " Rainfall      | null   \n",
      " WindGustDir   | WNW    \n",
      " WindGustSpeed | 50     \n",
      " WindDir9am    | null   \n",
      " WindDir3pm    | WNW    \n",
      " WindSpeed9am  | null   \n",
      " WindSpeed3pm  | 22     \n",
      " Humidity9am   | 50     \n",
      " Humidity3pm   | 28     \n",
      " Pressure9am   | 1013.4 \n",
      " Pressure3pm   | 1010.3 \n",
      " Cloud9am      | 0      \n",
      " Cloud3pm      | null   \n",
      " Temp9am       | 17.3   \n",
      " Temp3pm       | 26.2   \n",
      " RainToday     | null   \n",
      " RainTomorrow  | No     \n",
      "-RECORD 15--------------\n",
      " MinTemp       | 14.1   \n",
      " MaxTemp       | 20.9   \n",
      " Rainfall      | 0      \n",
      " WindGustDir   | ENE    \n",
      " WindGustSpeed | 22     \n",
      " WindDir9am    | SSW    \n",
      " WindDir3pm    | E      \n",
      " WindSpeed9am  | 11     \n",
      " WindSpeed3pm  | 9      \n",
      " Humidity9am   | 69     \n",
      " Humidity3pm   | 82     \n",
      " Pressure9am   | 1012.2 \n",
      " Pressure3pm   | 1010.4 \n",
      " Cloud9am      | 8      \n",
      " Cloud3pm      | 1      \n",
      " Temp9am       | 17.2   \n",
      " Temp3pm       | 18.1   \n",
      " RainToday     | No     \n",
      " RainTomorrow  | Yes    \n",
      "-RECORD 16--------------\n",
      " MinTemp       | 13.5   \n",
      " MaxTemp       | 22.9   \n",
      " Rainfall      | 16.8   \n",
      " WindGustDir   | W      \n",
      " WindGustSpeed | 63     \n",
      " WindDir9am    | N      \n",
      " WindDir3pm    | WNW    \n",
      " WindSpeed9am  | 6      \n",
      " WindSpeed3pm  | 20     \n",
      " Humidity9am   | 80     \n",
      " Humidity3pm   | 65     \n",
      " Pressure9am   | 1005.8 \n",
      " Pressure3pm   | 1002.2 \n",
      " Cloud9am      | 8      \n",
      " Cloud3pm      | 1      \n",
      " Temp9am       | 18     \n",
      " Temp3pm       | 21.5   \n",
      " RainToday     | Yes    \n",
      " RainTomorrow  | Yes    \n",
      "-RECORD 17--------------\n",
      " MinTemp       | 11.2   \n",
      " MaxTemp       | 22.5   \n",
      " Rainfall      | 10.6   \n",
      " WindGustDir   | SSE    \n",
      " WindGustSpeed | 43     \n",
      " WindDir9am    | WSW    \n",
      " WindDir3pm    | SW     \n",
      " WindSpeed9am  | 24     \n",
      " WindSpeed3pm  | 17     \n",
      " Humidity9am   | 47     \n",
      " Humidity3pm   | 32     \n",
      " Pressure9am   | 1009.4 \n",
      " Pressure3pm   | 1009.7 \n",
      " Cloud9am      | null   \n",
      " Cloud3pm      | 2      \n",
      " Temp9am       | 15.5   \n",
      " Temp3pm       | 21     \n",
      " RainToday     | Yes    \n",
      " RainTomorrow  | No     \n",
      "-RECORD 18--------------\n",
      " MinTemp       | 9.8    \n",
      " MaxTemp       | 25.6   \n",
      " Rainfall      | 0      \n",
      " WindGustDir   | SSE    \n",
      " WindGustSpeed | 26     \n",
      " WindDir9am    | SE     \n",
      " WindDir3pm    | NNW    \n",
      " WindSpeed9am  | 17     \n",
      " WindSpeed3pm  | 6      \n",
      " Humidity9am   | 45     \n",
      " Humidity3pm   | 26     \n",
      " Pressure9am   | 1019.2 \n",
      " Pressure3pm   | 1017.1 \n",
      " Cloud9am      | null   \n",
      " Cloud3pm      | null   \n",
      " Temp9am       | 15.8   \n",
      " Temp3pm       | 23.2   \n",
      " RainToday     | No     \n",
      " RainTomorrow  | No     \n",
      "-RECORD 19--------------\n",
      " MinTemp       | 11.5   \n",
      " MaxTemp       | 29.3   \n",
      " Rainfall      | 0      \n",
      " WindGustDir   | S      \n",
      " WindGustSpeed | 24     \n",
      " WindDir9am    | SE     \n",
      " WindDir3pm    | SE     \n",
      " WindSpeed9am  | 9      \n",
      " WindSpeed3pm  | 9      \n",
      " Humidity9am   | 56     \n",
      " Humidity3pm   | 28     \n",
      " Pressure9am   | 1019.3 \n",
      " Pressure3pm   | 1014.8 \n",
      " Cloud9am      | null   \n",
      " Cloud3pm      | null   \n",
      " Temp9am       | 19.1   \n",
      " Temp3pm       | 27.3   \n",
      " RainToday     | No     \n",
      " RainTomorrow  | No     \n",
      "only showing top 20 rows\n",
      "\n"
     ]
    }
   ],
   "source": [
    "df_dropless = df.drop(\"Date\",\"Location\", \"Evaporation\", \"Sunshine\")\n",
    "df_dropless.printSchema()\n",
    "df_dropless.show(vertical=True)"
   ]
  },
  {
   "cell_type": "code",
   "execution_count": 27,
   "metadata": {},
   "outputs": [
    {
     "name": "stdout",
     "output_type": "stream",
     "text": [
      "+-------+-------+--------+-----------+-------------+----------+----------+------------+------------+-----------+-----------+-----------+-----------+--------+--------+-------+-------+---------+------------+\n",
      "|MinTemp|MaxTemp|Rainfall|WindGustDir|WindGustSpeed|WindDir9am|WindDir3pm|WindSpeed9am|WindSpeed3pm|Humidity9am|Humidity3pm|Pressure9am|Pressure3pm|Cloud9am|Cloud3pm|Temp9am|Temp3pm|RainToday|RainTomorrow|\n",
      "+-------+-------+--------+-----------+-------------+----------+----------+------------+------------+-----------+-----------+-----------+-----------+--------+--------+-------+-------+---------+------------+\n",
      "|    637|    322|    1406|       9330|         9270|     10013|      3778|        1348|        2630|       1774|       3610|      14014|      13981|   53657|   57094|    904|   2726|     1406|           0|\n",
      "+-------+-------+--------+-----------+-------------+----------+----------+------------+------------+-----------+-----------+-----------+-----------+--------+--------+-------+-------+---------+------------+\n",
      "\n"
     ]
    }
   ],
   "source": [
    "df_dropless.select([count(when(col(c).isNull(), c)).alias(c) for c in df_dropless.columns]).show()"
   ]
  },
  {
   "cell_type": "code",
   "execution_count": 28,
   "metadata": {},
   "outputs": [],
   "source": [
    "numeric_cols_dl = [\"MinTemp\", \"MaxTemp\", \"Rainfall\", \"WindGustSpeed\", \"WindSpeed9am\", \"WindSpeed3pm\", \"Humidity9am\", \"Humidity3pm\", \"Pressure9am\", \"Pressure3pm\", \"Cloud9am\", \"Cloud3pm\", \"Temp9am\", \"Temp3pm\"]\n",
    "string_cols_dl  = [\"WindGustDir\", \"WindDir9am\", \"WindDir3pm\", \"RainToday\"]\n",
    "\n",
    "means_dl = df_dropless.select([mean(col(c)).alias(c) for c in numeric_cols_dl]).collect()[0]\n",
    "ready_to_fill_n_dl = {numeric_cols_dl[i]: means_dl[i] for i in range(len(numeric_cols_dl))}\n",
    "df_filled_dl = df_dropless.na.fill(ready_to_fill_n_dl)"
   ]
  },
  {
   "cell_type": "code",
   "execution_count": 29,
   "metadata": {},
   "outputs": [],
   "source": [
    "def find_mode(col_name):\n",
    "    max = df_filled_dl.where(df[col_name] != \"null\").groupBy(col_name).count().groupBy().max(\"Count\").collect()[0][0]\n",
    "    grouped = df_filled_dl.where(df[col_name] != \"null\").groupBy(col_name).count()\n",
    "    mode = grouped.where(grouped[\"count\"] == max).select(col_name).collect()[0][0]\n",
    "    return mode\n",
    "\n",
    "ready_to_fill_s_dl = {string_cols[i]: find_mode(string_cols[i]) for i in range(len(string_cols_dl))}\n",
    "\n",
    "df_nonull_dl = df_filled_dl.na.fill(ready_to_fill_s_dl)"
   ]
  },
  {
   "cell_type": "code",
   "execution_count": 30,
   "metadata": {},
   "outputs": [
    {
     "name": "stdout",
     "output_type": "stream",
     "text": [
      "-RECORD 0------------\n",
      " MinTemp       | 0   \n",
      " MaxTemp       | 0   \n",
      " Rainfall      | 0   \n",
      " WindGustDir   | 0   \n",
      " WindGustSpeed | 0   \n",
      " WindDir9am    | 0   \n",
      " WindDir3pm    | 0   \n",
      " WindSpeed9am  | 0   \n",
      " WindSpeed3pm  | 0   \n",
      " Humidity9am   | 0   \n",
      " Humidity3pm   | 0   \n",
      " Pressure9am   | 0   \n",
      " Pressure3pm   | 0   \n",
      " Cloud9am      | 0   \n",
      " Cloud3pm      | 0   \n",
      " Temp9am       | 0   \n",
      " Temp3pm       | 0   \n",
      " RainToday     | 0   \n",
      " RainTomorrow  | 0   \n",
      "\n"
     ]
    }
   ],
   "source": [
    "df_nonull_dl.select([count(when(col(c).isNull(), c)).alias(c) for c in df_nonull_dl.columns]).show(vertical=True)"
   ]
  },
  {
   "cell_type": "code",
   "execution_count": 31,
   "metadata": {},
   "outputs": [
    {
     "name": "stdout",
     "output_type": "stream",
     "text": [
      "root\n",
      " |-- MinTemp: double (nullable = true)\n",
      " |-- MaxTemp: double (nullable = true)\n",
      " |-- Rainfall: double (nullable = true)\n",
      " |-- WindGustDir: string (nullable = false)\n",
      " |-- WindGustSpeed: double (nullable = true)\n",
      " |-- WindDir9am: string (nullable = false)\n",
      " |-- WindDir3pm: string (nullable = false)\n",
      " |-- WindSpeed9am: double (nullable = true)\n",
      " |-- WindSpeed3pm: double (nullable = true)\n",
      " |-- Humidity9am: double (nullable = true)\n",
      " |-- Humidity3pm: double (nullable = true)\n",
      " |-- Pressure9am: double (nullable = true)\n",
      " |-- Pressure3pm: double (nullable = true)\n",
      " |-- Cloud9am: double (nullable = true)\n",
      " |-- Cloud3pm: double (nullable = true)\n",
      " |-- Temp9am: double (nullable = true)\n",
      " |-- Temp3pm: double (nullable = true)\n",
      " |-- RainToday: string (nullable = false)\n",
      " |-- RainTomorrow: string (nullable = true)\n",
      "\n"
     ]
    }
   ],
   "source": [
    "converter = udf(lambda x: float(x), DoubleType())\n",
    "\n",
    "for i in numeric_cols_dl:\n",
    "    df_nonull_dl = df_nonull_dl.withColumn(i, converter(col(i)))\n",
    "\n",
    "df_nonull_dl.printSchema()"
   ]
  },
  {
   "cell_type": "code",
   "execution_count": 32,
   "metadata": {},
   "outputs": [
    {
     "name": "stdout",
     "output_type": "stream",
     "text": [
      "-RECORD 0--------------------------------\n",
      " MinTemp             | 13.4              \n",
      " MaxTemp             | 22.9              \n",
      " Rainfall            | 0.6               \n",
      " WindGustDir         | W                 \n",
      " WindGustSpeed       | 44.0              \n",
      " WindDir9am          | W                 \n",
      " WindDir3pm          | WNW               \n",
      " WindSpeed9am        | 20.0              \n",
      " WindSpeed3pm        | 24.0              \n",
      " Humidity9am         | 71.0              \n",
      " Humidity3pm         | 22.0              \n",
      " Pressure9am         | 1007.7            \n",
      " Pressure3pm         | 1007.1            \n",
      " Cloud9am            | 8.0               \n",
      " Cloud3pm            | 4.503166899728551 \n",
      " Temp9am             | 16.9              \n",
      " Temp3pm             | 21.8              \n",
      " RainToday           | No                \n",
      " RainTomorrow        | No                \n",
      " WindGustDirindexed  | 0.0               \n",
      " WindDir9amindexed   | 6.0               \n",
      " WindDir3pmindexed   | 7.0               \n",
      " RainTodayindexed    | 0.0               \n",
      " RainTomorrowindexed | 0.0               \n",
      "-RECORD 1--------------------------------\n",
      " MinTemp             | 7.4               \n",
      " MaxTemp             | 25.1              \n",
      " Rainfall            | 0.0               \n",
      " WindGustDir         | WNW               \n",
      " WindGustSpeed       | 44.0              \n",
      " WindDir9am          | NNW               \n",
      " WindDir3pm          | WSW               \n",
      " WindSpeed9am        | 4.0               \n",
      " WindSpeed3pm        | 22.0              \n",
      " Humidity9am         | 44.0              \n",
      " Humidity3pm         | 25.0              \n",
      " Pressure9am         | 1010.6            \n",
      " Pressure3pm         | 1007.8            \n",
      " Cloud9am            | 4.437189391885787 \n",
      " Cloud3pm            | 4.503166899728551 \n",
      " Temp9am             | 17.2              \n",
      " Temp3pm             | 24.3              \n",
      " RainToday           | No                \n",
      " RainTomorrow        | No                \n",
      " WindGustDirindexed  | 9.0               \n",
      " WindDir9amindexed   | 9.0               \n",
      " WindDir3pmindexed   | 3.0               \n",
      " RainTodayindexed    | 0.0               \n",
      " RainTomorrowindexed | 0.0               \n",
      "-RECORD 2--------------------------------\n",
      " MinTemp             | 12.9              \n",
      " MaxTemp             | 25.7              \n",
      " Rainfall            | 0.0               \n",
      " WindGustDir         | WSW               \n",
      " WindGustSpeed       | 46.0              \n",
      " WindDir9am          | W                 \n",
      " WindDir3pm          | WSW               \n",
      " WindSpeed9am        | 19.0              \n",
      " WindSpeed3pm        | 26.0              \n",
      " Humidity9am         | 38.0              \n",
      " Humidity3pm         | 30.0              \n",
      " Pressure9am         | 1007.6            \n",
      " Pressure3pm         | 1008.7            \n",
      " Cloud9am            | 4.437189391885787 \n",
      " Cloud3pm            | 2.0               \n",
      " Temp9am             | 21.0              \n",
      " Temp3pm             | 23.2              \n",
      " RainToday           | No                \n",
      " RainTomorrow        | No                \n",
      " WindGustDirindexed  | 6.0               \n",
      " WindDir9amindexed   | 6.0               \n",
      " WindDir3pmindexed   | 3.0               \n",
      " RainTodayindexed    | 0.0               \n",
      " RainTomorrowindexed | 0.0               \n",
      "-RECORD 3--------------------------------\n",
      " MinTemp             | 9.2               \n",
      " MaxTemp             | 28.0              \n",
      " Rainfall            | 0.0               \n",
      " WindGustDir         | NE                \n",
      " WindGustSpeed       | 24.0              \n",
      " WindDir9am          | SE                \n",
      " WindDir3pm          | E                 \n",
      " WindSpeed9am        | 11.0              \n",
      " WindSpeed3pm        | 9.0               \n",
      " Humidity9am         | 45.0              \n",
      " Humidity3pm         | 16.0              \n",
      " Pressure9am         | 1017.6            \n",
      " Pressure3pm         | 1012.8            \n",
      " Cloud9am            | 4.437189391885787 \n",
      " Cloud3pm            | 4.503166899728551 \n",
      " Temp9am             | 18.1              \n",
      " Temp3pm             | 26.5              \n",
      " RainToday           | No                \n",
      " RainTomorrow        | No                \n",
      " WindGustDirindexed  | 13.0              \n",
      " WindDir9amindexed   | 1.0               \n",
      " WindDir3pmindexed   | 10.0              \n",
      " RainTodayindexed    | 0.0               \n",
      " RainTomorrowindexed | 0.0               \n",
      "-RECORD 4--------------------------------\n",
      " MinTemp             | 17.5              \n",
      " MaxTemp             | 32.3              \n",
      " Rainfall            | 1.0               \n",
      " WindGustDir         | W                 \n",
      " WindGustSpeed       | 41.0              \n",
      " WindDir9am          | ENE               \n",
      " WindDir3pm          | NW                \n",
      " WindSpeed9am        | 7.0               \n",
      " WindSpeed3pm        | 20.0              \n",
      " Humidity9am         | 82.0              \n",
      " Humidity3pm         | 33.0              \n",
      " Pressure9am         | 1010.8            \n",
      " Pressure3pm         | 1006.0            \n",
      " Cloud9am            | 7.0               \n",
      " Cloud3pm            | 8.0               \n",
      " Temp9am             | 17.8              \n",
      " Temp3pm             | 29.7              \n",
      " RainToday           | No                \n",
      " RainTomorrow        | No                \n",
      " WindGustDirindexed  | 0.0               \n",
      " WindDir9amindexed   | 10.0              \n",
      " WindDir3pmindexed   | 8.0               \n",
      " RainTodayindexed    | 0.0               \n",
      " RainTomorrowindexed | 0.0               \n",
      "-RECORD 5--------------------------------\n",
      " MinTemp             | 14.6              \n",
      " MaxTemp             | 29.7              \n",
      " Rainfall            | 0.2               \n",
      " WindGustDir         | WNW               \n",
      " WindGustSpeed       | 56.0              \n",
      " WindDir9am          | W                 \n",
      " WindDir3pm          | W                 \n",
      " WindSpeed9am        | 19.0              \n",
      " WindSpeed3pm        | 24.0              \n",
      " Humidity9am         | 55.0              \n",
      " Humidity3pm         | 23.0              \n",
      " Pressure9am         | 1009.2            \n",
      " Pressure3pm         | 1005.4            \n",
      " Cloud9am            | 4.437189391885787 \n",
      " Cloud3pm            | 4.503166899728551 \n",
      " Temp9am             | 20.6              \n",
      " Temp3pm             | 28.9              \n",
      " RainToday           | No                \n",
      " RainTomorrow        | No                \n",
      " WindGustDirindexed  | 9.0               \n",
      " WindDir9amindexed   | 6.0               \n",
      " WindDir3pmindexed   | 1.0               \n",
      " RainTodayindexed    | 0.0               \n",
      " RainTomorrowindexed | 0.0               \n",
      "-RECORD 6--------------------------------\n",
      " MinTemp             | 14.3              \n",
      " MaxTemp             | 25.0              \n",
      " Rainfall            | 0.0               \n",
      " WindGustDir         | W                 \n",
      " WindGustSpeed       | 50.0              \n",
      " WindDir9am          | SW                \n",
      " WindDir3pm          | W                 \n",
      " WindSpeed9am        | 20.0              \n",
      " WindSpeed3pm        | 24.0              \n",
      " Humidity9am         | 49.0              \n",
      " Humidity3pm         | 19.0              \n",
      " Pressure9am         | 1009.6            \n",
      " Pressure3pm         | 1008.2            \n",
      " Cloud9am            | 1.0               \n",
      " Cloud3pm            | 4.503166899728551 \n",
      " Temp9am             | 18.1              \n",
      " Temp3pm             | 24.6              \n",
      " RainToday           | No                \n",
      " RainTomorrow        | No                \n",
      " WindGustDirindexed  | 0.0               \n",
      " WindDir9amindexed   | 7.0               \n",
      " WindDir3pmindexed   | 1.0               \n",
      " RainTodayindexed    | 0.0               \n",
      " RainTomorrowindexed | 0.0               \n",
      "-RECORD 7--------------------------------\n",
      " MinTemp             | 7.7               \n",
      " MaxTemp             | 26.7              \n",
      " Rainfall            | 0.0               \n",
      " WindGustDir         | W                 \n",
      " WindGustSpeed       | 35.0              \n",
      " WindDir9am          | SSE               \n",
      " WindDir3pm          | W                 \n",
      " WindSpeed9am        | 6.0               \n",
      " WindSpeed3pm        | 17.0              \n",
      " Humidity9am         | 48.0              \n",
      " Humidity3pm         | 19.0              \n",
      " Pressure9am         | 1013.4            \n",
      " Pressure3pm         | 1010.1            \n",
      " Cloud9am            | 4.437189391885787 \n",
      " Cloud3pm            | 4.503166899728551 \n",
      " Temp9am             | 16.3              \n",
      " Temp3pm             | 25.5              \n",
      " RainToday           | No                \n",
      " RainTomorrow        | No                \n",
      " WindGustDirindexed  | 0.0               \n",
      " WindDir9amindexed   | 3.0               \n",
      " WindDir3pmindexed   | 1.0               \n",
      " RainTodayindexed    | 0.0               \n",
      " RainTomorrowindexed | 0.0               \n",
      "-RECORD 8--------------------------------\n",
      " MinTemp             | 9.7               \n",
      " MaxTemp             | 31.9              \n",
      " Rainfall            | 0.0               \n",
      " WindGustDir         | NNW               \n",
      " WindGustSpeed       | 80.0              \n",
      " WindDir9am          | SE                \n",
      " WindDir3pm          | NW                \n",
      " WindSpeed9am        | 7.0               \n",
      " WindSpeed3pm        | 28.0              \n",
      " Humidity9am         | 42.0              \n",
      " Humidity3pm         | 9.0               \n",
      " Pressure9am         | 1008.9            \n",
      " Pressure3pm         | 1003.6            \n",
      " Cloud9am            | 4.437189391885787 \n",
      " Cloud3pm            | 4.503166899728551 \n",
      " Temp9am             | 18.3              \n",
      " Temp3pm             | 30.2              \n",
      " RainToday           | No                \n",
      " RainTomorrow        | Yes               \n",
      " WindGustDirindexed  | 14.0              \n",
      " WindDir9amindexed   | 1.0               \n",
      " WindDir3pmindexed   | 8.0               \n",
      " RainTodayindexed    | 0.0               \n",
      " RainTomorrowindexed | 1.0               \n",
      "-RECORD 9--------------------------------\n",
      " MinTemp             | 13.1              \n",
      " MaxTemp             | 30.1              \n",
      " Rainfall            | 1.4               \n",
      " WindGustDir         | W                 \n",
      " WindGustSpeed       | 28.0              \n",
      " WindDir9am          | S                 \n",
      " WindDir3pm          | SSE               \n",
      " WindSpeed9am        | 15.0              \n",
      " WindSpeed3pm        | 11.0              \n",
      " Humidity9am         | 58.0              \n",
      " Humidity3pm         | 27.0              \n",
      " Pressure9am         | 1007.0            \n",
      " Pressure3pm         | 1005.7            \n",
      " Cloud9am            | 4.437189391885787 \n",
      " Cloud3pm            | 4.503166899728551 \n",
      " Temp9am             | 20.1              \n",
      " Temp3pm             | 28.2              \n",
      " RainToday           | Yes               \n",
      " RainTomorrow        | No                \n",
      " WindGustDirindexed  | 0.0               \n",
      " WindDir9amindexed   | 5.0               \n",
      " WindDir3pmindexed   | 5.0               \n",
      " RainTodayindexed    | 1.0               \n",
      " RainTomorrowindexed | 0.0               \n",
      "only showing top 10 rows\n",
      "\n"
     ]
    }
   ],
   "source": [
    "string_cols_dl.append(\"RainTomorrow\")\n",
    "indexers_dl = [StringIndexer(inputCol=i, outputCol=str(i+\"indexed\")) for i in string_cols_dl]\n",
    "\n",
    "for i in range(len(indexers_dl)):\n",
    "    df_nonull_dl = indexers_dl[i].fit(df_nonull_dl).transform(df_nonull_dl)\n",
    "\n",
    "df_nonull_dl.show(10, truncate=False, vertical=True)"
   ]
  },
  {
   "cell_type": "code",
   "execution_count": 33,
   "metadata": {},
   "outputs": [],
   "source": [
    "features_dl = numeric_cols_dl + list(map(lambda x: x+\"indexed\", string_cols_dl[0:3]))\n",
    "\n",
    "vector_assembler = VectorAssembler(inputCols=features_dl,\n",
    "                                   outputCol=\"features\")\n",
    "\n",
    "df_vectorised_dl = vector_assembler.transform(df_nonull_dl)\\\n",
    "                                   .withColumnRenamed(\"RainTomorrowindexed\", \"label\")\\\n",
    "                                   .select(\"features\", \"label\")"
   ]
  },
  {
   "cell_type": "code",
   "execution_count": 34,
   "metadata": {},
   "outputs": [],
   "source": [
    "(trainingData_dl, testData_dl) = df_vectorised_dl.randomSplit([0.7, 0.3], seed = 100)"
   ]
  },
  {
   "cell_type": "code",
   "execution_count": 35,
   "metadata": {},
   "outputs": [
    {
     "name": "stdout",
     "output_type": "stream",
     "text": [
      "Decision Tree\n",
      "Using more variables\n",
      "Accuracy = 0.8341931076720137 \n",
      "Using less variables\n",
      "Accuracy = 0.8359126563493746\n",
      "\n",
      "Random Forest\n",
      "Using more variables\n",
      "Accuracy = 0.8356299908133701 \n",
      "Using less variables\n",
      "Accuracy = 0.8359362118107083\n",
      "\n",
      "Logistic Regression\n",
      "Using more variables\n",
      "Accuracy = 0.773043130049702 \n",
      "Using less variables\n",
      "Accuracy = 0.8373024285680635\n",
      "\n",
      "Gradient Boosted Tree\n",
      "Using more variables\n",
      "Accuracy = 0.8432148493628248 \n",
      "Using less variables\n",
      "Accuracy = 0.8437566249735001\n",
      "\n"
     ]
    }
   ],
   "source": [
    "# Build models on the classifiers, chunked them into a dictionary\n",
    "models_dl = {i: classifiers[i].fit(trainingData_dl) for i in classifiers}\n",
    "\n",
    "# Make predictions using the models\n",
    "predictions_dl = {i: models_dl[i].transform(testData_dl).select(\"label\", \"prediction\") for i in classifiers}\n",
    "\n",
    "accuracy_dl = {i: evaluator.evaluate(predictions_dl[i]) for i in classifiers}\n",
    "\n",
    "for i in accuracy:\n",
    "    print(i)\n",
    "    print(\"Using more variables\")\n",
    "    print(\"Accuracy = {0} \".format(accuracy_dl[i]))\n",
    "    print(\"Using less variables\")\n",
    "    print(\"Accuracy = {0}\".format(accuracy[i]))\n",
    "    print()"
   ]
  },
  {
   "cell_type": "markdown",
   "metadata": {},
   "source": [
    "After the experiment, we can observe that adding more variables even detriments accuracy, particularly in logistic regression."
   ]
  },
  {
   "cell_type": "markdown",
   "metadata": {},
   "source": [
    "#### Conclusion on improving precision"
   ]
  },
  {
   "cell_type": "markdown",
   "metadata": {},
   "source": [
    "Among the four methods we picked in order to improve accuracy, only using more data to do the training and tuning parameters will lead to significant improvement. Adding more variables would even harm accuracy.\n",
    "\n",
    "Due to the limit of time, we could not try all the methods to improve accuracy. But further effort could be made, such as adding more data in the dataset and eliminating outliers.\n",
    "\n",
    "Reference:\n",
    "https://www.analyticsvidhya.com/blog/2015/12/improve-machine-learning-results/"
   ]
  },
  {
   "cell_type": "markdown",
   "metadata": {},
   "source": [
    "## D. Appendix (Please read)"
   ]
  },
  {
   "cell_type": "markdown",
   "metadata": {},
   "source": [
    "### About type casting "
   ]
  },
  {
   "cell_type": "markdown",
   "metadata": {},
   "source": [
    "We did try to convert all the numeric columns to double in Step 01. But we found out that keeping them as strings won't cause the loss of precision. Hence, we decided to keep them as strings and convert them later on. After consulting the tutor, we think that it was the intrinsic dynamic typing of python - therefore pyspark - that did the job."
   ]
  },
  {
   "cell_type": "markdown",
   "metadata": {},
   "source": [
    "---"
   ]
  },
  {
   "cell_type": "markdown",
   "metadata": {},
   "source": [
    "This is the end of Assignment 2."
   ]
  }
 ],
 "metadata": {
  "kernelspec": {
   "display_name": "Python 3",
   "language": "python",
   "name": "python3"
  },
  "language_info": {
   "codemirror_mode": {
    "name": "ipython",
    "version": 3
   },
   "file_extension": ".py",
   "mimetype": "text/x-python",
   "name": "python",
   "nbconvert_exporter": "python",
   "pygments_lexer": "ipython3",
   "version": "3.7.3"
  },
  "toc": {
   "base_numbering": 1,
   "nav_menu": {},
   "number_sections": true,
   "sideBar": true,
   "skip_h1_title": false,
   "title_cell": "Table of Contents",
   "title_sidebar": "Contents",
   "toc_cell": false,
   "toc_position": {},
   "toc_section_display": true,
   "toc_window_display": false
  }
 },
 "nbformat": 4,
 "nbformat_minor": 2
}
